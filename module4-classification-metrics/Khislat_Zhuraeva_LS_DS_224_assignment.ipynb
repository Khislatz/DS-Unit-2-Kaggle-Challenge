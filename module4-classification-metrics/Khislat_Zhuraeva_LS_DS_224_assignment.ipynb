{
  "nbformat": 4,
  "nbformat_minor": 0,
  "metadata": {
    "kernelspec": {
      "display_name": "Python 3",
      "language": "python",
      "name": "python3"
    },
    "language_info": {
      "codemirror_mode": {
        "name": "ipython",
        "version": 3
      },
      "file_extension": ".py",
      "mimetype": "text/x-python",
      "name": "python",
      "nbconvert_exporter": "python",
      "pygments_lexer": "ipython3",
      "version": "3.7.6"
    },
    "colab": {
      "name": "Khislat Zhuraeva_LS_DS_224_assignment.ipynb",
      "provenance": [],
      "include_colab_link": true
    },
    "widgets": {
      "application/vnd.jupyter.widget-state+json": {
        "8eb86ea170ef48aabfa98e9c53f59885": {
          "model_module": "@jupyter-widgets/controls",
          "model_name": "VBoxModel",
          "state": {
            "_view_name": "VBoxView",
            "_dom_classes": [
              "widget-interact"
            ],
            "_model_name": "VBoxModel",
            "_view_module": "@jupyter-widgets/controls",
            "_model_module_version": "1.5.0",
            "_view_count": null,
            "_view_module_version": "1.5.0",
            "box_style": "",
            "layout": "IPY_MODEL_7d7077094faf4c6ea93a0cd0f0e8689b",
            "_model_module": "@jupyter-widgets/controls",
            "children": [
              "IPY_MODEL_e78b7fe3c9624081b0c8350884f3106b",
              "IPY_MODEL_dcf4ecefcd3343fe8cdca3fd897ceaa7"
            ]
          }
        },
        "7d7077094faf4c6ea93a0cd0f0e8689b": {
          "model_module": "@jupyter-widgets/base",
          "model_name": "LayoutModel",
          "state": {
            "_view_name": "LayoutView",
            "grid_template_rows": null,
            "right": null,
            "justify_content": null,
            "_view_module": "@jupyter-widgets/base",
            "overflow": null,
            "_model_module_version": "1.2.0",
            "_view_count": null,
            "flex_flow": null,
            "width": null,
            "min_width": null,
            "border": null,
            "align_items": null,
            "bottom": null,
            "_model_module": "@jupyter-widgets/base",
            "top": null,
            "grid_column": null,
            "overflow_y": null,
            "overflow_x": null,
            "grid_auto_flow": null,
            "grid_area": null,
            "grid_template_columns": null,
            "flex": null,
            "_model_name": "LayoutModel",
            "justify_items": null,
            "grid_row": null,
            "max_height": null,
            "align_content": null,
            "visibility": null,
            "align_self": null,
            "height": null,
            "min_height": null,
            "padding": null,
            "grid_auto_rows": null,
            "grid_gap": null,
            "max_width": null,
            "order": null,
            "_view_module_version": "1.2.0",
            "grid_template_areas": null,
            "object_position": null,
            "object_fit": null,
            "grid_auto_columns": null,
            "margin": null,
            "display": null,
            "left": null
          }
        },
        "e78b7fe3c9624081b0c8350884f3106b": {
          "model_module": "@jupyter-widgets/controls",
          "model_name": "FloatSliderModel",
          "state": {
            "_view_name": "FloatSliderView",
            "style": "IPY_MODEL_9d2920e384b74f6aa3162ebf9247cb51",
            "_dom_classes": [],
            "description": "thres",
            "step": 0.1,
            "_model_name": "FloatSliderModel",
            "orientation": "horizontal",
            "max": 1,
            "_view_module": "@jupyter-widgets/controls",
            "_model_module_version": "1.5.0",
            "value": 0.5,
            "_view_count": null,
            "disabled": false,
            "_view_module_version": "1.5.0",
            "min": 0,
            "continuous_update": true,
            "readout_format": ".2f",
            "description_tooltip": null,
            "readout": true,
            "_model_module": "@jupyter-widgets/controls",
            "layout": "IPY_MODEL_25db720074324717a7f8bb669b49ba07"
          }
        },
        "dcf4ecefcd3343fe8cdca3fd897ceaa7": {
          "model_module": "@jupyter-widgets/output",
          "model_name": "OutputModel",
          "state": {
            "_view_name": "OutputView",
            "msg_id": "",
            "_dom_classes": [],
            "_model_name": "OutputModel",
            "outputs": [
              {
                "output_type": "display_data",
                "metadata": {
                  "tags": [],
                  "needs_background": "light"
                },
                "image/png": "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\n",
                "text/plain": "<Figure size 432x288 with 1 Axes>"
              },
              {
                "output_type": "stream",
                "metadata": {
                  "tags": []
                },
                "text": "              precision    recall  f1-score   support\n\n       False       0.81      0.88      0.85      7798\n        True       0.85      0.76      0.80      6560\n\n    accuracy                           0.83     14358\n   macro avg       0.83      0.82      0.82     14358\nweighted avg       0.83      0.83      0.83     14358\n\n",
                "stream": "stdout"
              },
              {
                "output_type": "display_data",
                "metadata": {
                  "tags": [],
                  "needs_background": "light"
                },
                "image/png": "iVBORw0KGgoAAAANSUhEUgAAAiwAAAGbCAYAAADnUMu5AAAABHNCSVQICAgIfAhkiAAAAAlwSFlzAAALEgAACxIB0t1+/AAAADh0RVh0U29mdHdhcmUAbWF0cGxvdGxpYiB2ZXJzaW9uMy4yLjEsIGh0dHA6Ly9tYXRwbG90bGliLm9yZy+j8jraAAAgAElEQVR4nO3debxXZbX48c86HBQcQEAlFVNK1LRBy1CzQTTJocQ5tUGTRBvsaoN2G9ScqpsNpr/rvaSWmqk5pOTNAXG2NHHMWXJIkUkZHEAEXL8/vhs6EOfwPXSGvc/38/a1X2fv57v393m2dXCx1vPsHZmJJElSmTV19wAkSZJWxIBFkiSVngGLJEkqPQMWSZJUegYskiSp9Jo7u4O+W3/VZUhSN5h1z1ndPQSpYfVpJrqyv478b+28+8/q0rHXywyLJEkqvU7PsEiSpE4WPT//0PPvUJIkVZ4ZFkmSqi5KOe2kQxmwSJJUdZaEJEmSup8ZFkmSqs6SkCRJKj1LQpIkSd3PDIskSVVnSUiSJJWeJSFJkqTuZ4ZFkqSqsyQkSZJKz5KQJElS9zPDIklS1VkSkiRJpWdJSJIkqfuZYZEkqeosCUmSpNKzJCRJktT9zLBIklR1DZBhMWCRJKnqmnr+HJaeH5JJkqTKM8MiSVLVWRKSJEml1wDLmnt+SCZJkirPDIskSVVnSUiSJJWeJSFJkqTuZ4ZFkqSqsyQkSZJKrwFKQgYskiRVXQNkWHr+HUqSpMozwyJJUtVZEpIkSaVnSUiSJKn7mWGRJKnqLAlJkqTSsyQkSZLU/cywSJJUdQ2QYTFgkSSp6hpgDkvPD8kkSVLlmWGRJKnqLAlJkqTSsyQkSZLU/cywSJJUdZaEJElS6VkSkiRJ6n5mWCRJqrhogAyLAYskSRXXCAGLJSFJklR6ZlgkSaq6np9gMcMiSVLVRUSHbXX0tVZEXB4Rj0fEYxGxfUQMjIjxEfFU8XNAcW5ExC8jYlJEPBQR72/xPYcU5z8VEYesqF8DFkmS1B5nANdl5ubA+4DHgG8DEzJzGDChOAbYDRhWbGOAswEiYiBwArAtMBw4YXGQ0xoDFkmSKq6rMiwR0R/4KHAuQGa+mZmzgVHA+cVp5wN7FfujgAuy5i5grYhYD/gEMD4zZ2bmLGA8sGtbfRuwSJJUcR0ZsETEmIiY2GIb06KrocAM4NcRcX9EnBMRqwODM3NKcc5UYHCxvwHwfIvrXyjaWmtvlZNuJUnSEpk5FhjbysfNwPuBozLz7og4g3+WfxZfnxGRHT0uMyySJFVcF066fQF4ITPvLo4vpxbATCtKPRQ/pxefTwY2bHH9kKKttfZWGbBIklR10YFbGzJzKvB8RGxWNO0MPAqMAxav9DkEuLrYHwd8vlgttB0wpygdXQ+MjIgBxWTbkUVbqywJSZKk9jgKuCgiVgGeBr5ALQHy+4gYDTwHHFCc+ydgd2ASMLc4l8ycGREnA/cU552UmTPb6tSARZKkiuvKR/Nn5gPANsv5aOflnJvAV1r5nvOA8+rt14BFkqSK811CkiRJJWCGRZKkimuEDIsBiyRJFdcIAYslIUmSVHpmWCRJqrqen2AxYJEkqeosCUmSJJWAGRZJkiquETIsBiySJFVcIwQsloQkSVLpmWGRJKnqen6CxYBFkqSqsyQkSZJUAmZYJEmquEbIsBiwSJJUcY0QsFgSkiRJpWeGRZKkimuEDIsBiyRJVdfz4xVLQpIkqfzMsEiSVHGWhCRJUuk1QsBiSUiSJJWeGRZJkiquETIsBiySJFVdz49XDFgkSaq6RsiwOIdFkiSVnhkWSZIqrhEyLAYsDaj/Gn05+4SD2eKd65EJR/7gIua98SZnfvdAVl21NwsXvcXRp13KxEeeY601+/K/J36WoUPWZv6bCzjixIt49O9TADjqMyM4dO8PkZk8MulFxpzwW+a/ubCb706qhosuPJ8rLr+MzGTf/fbns58/lDmzZ3PsN4/hxcmTWX+DDfjJT39Bv/79yUx+/MNTueO2W+nTtw8nn/oj3rXFlt19CyqRRghYLAk1oNOP3Y8b/vwoW+1zCsM//UMef3oqpx69F6eOvZbtDvwRJ599DacevRcAx47+BA8+8QLDP/1DRn//Qk7/1n4ArL9Of7580MfY4TP/xTb7n0avpib2/8QHuvO2pMp46qknueLyy7joksu47Mqrue3WW/jHc89x3jljGb7t9vzx2hsYvu32nHvOWADuuP02/vHcs/zx2hs4/sSTOeWkE7v3BqRuUFfAEhEbRcTHi/2+EbFm5w5LnaXfGn348PvfyW/+8BcAFixcxJzX5pEJ/VbvA9QyMFNmzAFg83e8jVvveRKAJ5+dxkbrD2TdgbX/+Zt79aLvqr3p1auJvn1WWXKNpLY98/Tfec9730vfvn1pbm7mA9t8kAk33sDNN09gz71qf1nYc6+9uPmmGwG4+aYJfGrPvYgI3vu+rXj11VeYMWN6d96CSiYiOmwrqxUGLBFxOHA58L9F0xDgqs4clDrPxusP4qVZrzH2B5/lLxcfx38ffzCr9VmFb51+OacdvRdPXXsyPzxmb44/82oA/vbkZEbt9D4AttlyI96+3kA2GLwWL86Ywy8umMCT157MM+NP5ZXX5jHhrse789akythkk0257957mT17FvPmzeOO229j6tSpzHz5ZdZZZ10A1l57HWa+/DIA06dPY/Db3rbk+sGD38b0adO6ZewqqejAraTqybB8BdgBeAUgM58C1m3rgogYExETI2Liwpce+fdHqQ7T3NyLrTbfkF9ddjvbH/Rj5s6bzzcP24Ux+3+EY396JcN2+z7Hnn4FZ5/wGQBO//V4+q+5Gndd8m2+dODHePCJF1i06C3WWrMvn9zxPbzrkyfwjpHfZfW+q3Dg7h/s5ruTquEd73wnXxj9RY48fDRfPuKLbLb55vRqWvqP44iAEv9tV+pq9QQs8zPzzcUHEdEMZFsXZObYzNwmM7dpXtuJYWUyedosJk+fzT0PPwfAH258gK0235DPfHJbrprwAABXjL+fbbbcCIBXX3+DI078Ldsd+CNGf/8C1h6wBs9Mfpmdtt2cZ198mZdmvcbChW9x1U0Pst37hnbbfUlVs8+++3PJZVfy6wsuol+//my08cYMHDRoSalnxozpDBw4EIB11x3MtKlTl1w7bdpU1h08uFvGrXKyJFRza0R8B+gbEbsAlwF/7NxhqbNMe/lVXpg6i2Eb1ZJkOw7fjMefnsqUGXP4yAeGFW2bMukfM4DafJbezb0A+MLeH+KO+ybx6utv8PzUmQx/z1D69ukNwIjhm/HEM6aopXq9XJR7prz4IhNuvIHd9vgUO47YiXFX1Sru4666ihEjdgZgxxE78cdxV5GZPPTgA6yxxppLSkcSNEbAUs+y5m8Do4G/AUcAfwLO6cxBqXN9/ceX8evTDmWV5l48O/klxpzwW6655SF+8q39aG5uYv78hXz1lIuB2qTbX530OTKTx/4+hSN/cBEA9zz8HH+48X7+8rvjWLjoLR58/AXOveLO7rwtqVK+cfRRzJk9m+bmZr7zvRPo168fh31xDN/6+tFcdeXlrLf++vzkp78A4CMf/Rh33HYrn9xtF/r06ctJp5zWzaOXul5ktlndWfrkiIHAkMx8qN5r+m791fo7kNRhZt1zVncPQWpYfZq7dvrqJt+8tsP+Wzvp9N1KmWZZYYYlIm4B9izOvReYHhF/zsxjOnlskiSpDmUu5XSUeuaw9M/MV4B9gAsyc1tg584dliRJ0j/VE7A0R8R6wAHANZ08HkmS1E6LV8F3xFZW9Uy6PQm4HrgjM++JiHcAT3XusCRJUr0aoSS0woAlMy+jtpR58fHTwL6dOShJkqSWWg1YIuJM2nhAXGZ+rVNGJEmS2qUBEixtZlgmdtkoJEnSSmtq6vkRS6sBS2ae35UDkSRJak09z2FZBzgO2ALos7g9M3fqxHFJkqQ6NUJJqJ5lzRcBjwFDgR8AzwL3dOKYJElSOzTCu4TqCVgGZea5wILMvDUzDwPMrkiSpC5Tz3NYFhQ/p0TEHsCLwMDOG5IkSWqPEidGOkw9AcspEdEf+AZwJtAP8D1CkiSVRJlLOR2l1ZJQRPwGIDOvAfbKzIczc0RmfiAzx3XVACVJktqaw/K+Fvv/0dkDkSRJK6cRJt22VRJq9Sm3kiSpPEocZ3SYtgKWIRHxSyBa7C/ho/klSVJXaStg+VaLfR/TL0lSSZW5lNNRfDS/JEkV15XxSkQ8C7wKLAIWZuY2ETEQuBTYmNoDZg/IzFlRi6TOAHYH5gKHZuZ9xfccAnyv+NpTVhR31PPgOEmSpJZGZOZWmblNcfxtYEJmDgMmFMcAuwHDim0McDZAEeCcAGwLDAdOiIgBbXVowCJJUsWVYJXQKGBxhuR8YK8W7RdkzV3AWhGxHvAJYHxmzszMWcB4YNe2OjBgkSSp4iI6cosxETGxxTZmme4SuCEi7m3x2eDMnFLsTwUGF/sbAM+3uPaFoq219la1OoclIs6kjaXNrhKSJKnnycyxwNg2TvlwZk6OiHWB8RHx+DLXZ0R0+KNR2lol5MogSZIqoCtXCWXm5OLn9Ij4A7U5KNMiYr3MnFKUfKYXp08GNmxx+ZCibTKw4zLtt7TVr6uEJEmquK6KVyJidaApM18t9kcCJwHjgEOAHxU/ry4uGQd8NSIuoTbBdk4R1FwPnNZiou1I4D/b6nuFLz+MiHWA44AtgD6L2zNzp/pvUZIk9QCDgT8UGZ1m4HeZeV1E3AP8PiJGA88BBxTn/4nakuZJ1JY1fwEgM2dGxMnAPcV5J2XmzLY6rudtzRdRW1u9B3AktchpRv33JkmSOlNXlYQy82mWftfg4vaXgZ2X057AV1r5rvOA8+rtu55VQoMy81xgQWbempmHAWZXJEkqiY5cJVRW9WRYFhQ/p0TEHsCLwMDOG5IkSdLS6glYTomI/sA3gDOBfsAxnToqSZJUt4Z+l9BimXlNsTsHGNG5w5EkSe3VAPFKXauEfs1yHiBXzGWRJEnqdPWUhK5psd8H2JvaPBZJklQCloSAzLyi5XFEXAzc0WkjkiRJ7dIA8cpKvfxwGLBuRw9EkiSpNfXMYXmVpeewTKX25FtJklQCloSAzFyzKwYiSZJWTiMELCssCUXEhHraJEmSOkurGZaI6AOsBqxdvE1xcfjWD9igC8YmSZLq0AAJljZLQkcARwPrA/fyz4DlFeCsTh6XJEmqUyOUhFoNWDLzDOCMiDgqM8/swjFJkiQtpZ5lzW9FxFqLDyJiQER8uRPHJEmS2qER3tZcT8ByeGbOXnyQmbOAwztvSJIkqT0iosO2sqrn0fy9IiIyMwEiohewSucOS5Ik1avEcUaHqSdguQ64NCL+tzg+omiTJEnqEvUELMcBY4AvFcfjgV912ogkSVK7NDVAimWFc1gy863M/J/M3C8z9wMeBVw1JElSSTTCpNt6MixExNbAQcABwDPAlZ05KEmSpJbaetLtptSClIOAl4BLgcjMEV00NkmSVIcyr+7pKG1lWB4Hbgc+mZmTACLimC4ZlSRJqltTz49X2pzDsg8wBbg5In4VETvzz8fzS5IkdZlWA5bMvCozDwQ2B26m9l6hdSPi7IgY2VUDlCRJbWuEB8fVs0ro9cz8XWZ+ChgC3E9tqbMkSSqBRlglVM+j+ZfIzFmZOTYzd+6sAUmSJC2rrmXNkiSpvKIBppgasEiSVHGNvkpIkiSpFMywSJJUcWVe3dNRDFgkSaq4BohXLAlJkqTyM8MiSVLFNTVAisWARZKkimuAeMWSkCRJKj8zLJIkVZyrhCRJUuk1QLxiSUiSJJWfGRZJkirOVUKSJKn0en64YklIkiRVgBkWSZIqzlVCkiSp9Jp6frxiSUiSJJWfGRZJkirOkpAkSSq9BohXLAlJkqTyM8MiSVLFWRKSJEml5yohSZKkEjDDIklSxVkSkiRJpdfzwxVLQpIkqQIMWCRJqrimiA7b6hERvSLi/oi4pjgeGhF3R8SkiLg0IlYp2lctjicVn2/c4jv+s2h/IiI+scJ7XKl/M5IkqTQiOm6r038Aj7U4/jHw88zcBJgFjC7aRwOzivafF+cREVsABwJbArsC/x0Rvdrq0IBFkiTVLSKGAHsA5xTHAewEXF6ccj6wV7E/qjim+Hzn4vxRwCWZOT8znwEmAcPb6teARZKkiouIjtzGRMTEFtuYZbr7BXAs8FZxPAiYnZkLi+MXgA2K/Q2A5wGKz+cU5y9pX841y+UqIUmSKq4jVzVn5lhg7PL7iU8C0zPz3ojYseN6XTEDFkmSVK8dgD0jYnegD9APOANYKyKaiyzKEGBycf5kYEPghYhoBvoDL7doX6zlNctlSUiSpIrrqlVCmfmfmTkkMzemNmn2psz8DHAzsF9x2iHA1cX+uOKY4vObMjOL9gOLVURDgWHAX9vq2wyLJEkVV4IH3R4HXBIRpwD3A+cW7ecCF0bEJGAmtSCHzHwkIn4PPAosBL6SmYva6sCARZIktVtm3gLcUuw/zXJW+WTmG8D+rVx/KnBqvf11esDy+I0/7ewuJC3Hh390c3cPQWpYE783okv7811CkiSp9BphQmoj3KMkSao4MyySJFWcJSFJklR6TT0/XjFgkSSp6hohYHEOiyRJKj0zLJIkVZxzWCRJUulZEpIkSSoBMyySJFVcA1SEDFgkSaq6Fb1luSewJCRJkkrPDIskSRXXCNkHAxZJkiquASpCDRGUSZKkijPDIklSxTXCpFsDFkmSKq4B4hVLQpIkqfzMsEiSVHGN8Gh+AxZJkiquEeawWBKSJEmlZ4ZFkqSKa4AEiwGLJElV1whzWCwJSZKk0jPDIklSxQU9P8ViwCJJUsVZEpIkSSoBMyySJFVcI2RYDFgkSaq4aIB1zZaEJElS6ZlhkSSp4iwJSZKk0muAipAlIUmSVH5mWCRJqrhGeFuzAYskSRXXCHNYLAlJkqTSM8MiSVLFNUBFyIBFkqSqa2qAlx9aEpIkSaVnhkWSpIqzJCRJkkrPVUKSJEklYIZFkqSK88FxkiSp9BogXrEkJEmSys8MiyRJFWdJSJIklV4DxCuWhCRJUvmZYZEkqeIaIftgwCJJUsVFA9SEGiEokyRJFWeGRZKkiuv5+RUDFkmSKq8RljVbEpIkSXWJiD4R8deIeDAiHomIHxTtQyPi7oiYFBGXRsQqRfuqxfGk4vONW3zXfxbtT0TEJ1bUtwGLJEkVFx24rcB8YKfMfB+wFbBrRGwH/Bj4eWZuAswCRhfnjwZmFe0/L84jIrYADgS2BHYF/jsierXVsQGLJEkVF9FxW1uy5rXisHexJbATcHnRfj6wV7E/qjim+HznqC1pGgVckpnzM/MZYBIwvK2+DVgkSVLdIqJXRDwATAfGA38HZmfmwuKUF4ANiv0NgOcBis/nAINati/nmuUyYJEkqeIioiO3MRExscU2pmVfmbkoM7cChlDLimzeFffoKiFJkiquI7MPmTkWGFvHebMj4mZge2CtiGgusihDgMnFaZOBDYEXIqIZ6A+83KJ9sZbXLJcZFkmSKq4jMywr6GediFir2O8L7AI8BtwM7FecdghwdbE/rjim+PymzMyi/cBiFdFQYBjw17b6NsMiSZLqtR5wfrGipwn4fWZeExGPApdExCnA/cC5xfnnAhdGxCRgJrWVQWTmIxHxe+BRYCHwlcxc1FbHBiySJFVcVz02LjMfArZeTvvTLGeVT2a+AezfynedCpxab98GLJIkVZwvP5QkSSoBMyySJFVcI2QfDFgkSao4S0KSJEklYIZFkqSK6/n5FQMWSZIqrwEqQpaEJElS+ZlhkSSp4poaoChkwCJJUsVZEpIkSSoBMyySJFVcWBKSJEllZ0lIkiSpBMywSJJUca4SkiRJpWdJSJIkqQTMsEiSVHGNkGExYJEkqeIaYVmzJSFJklR6ZlgkSaq4pp6fYDFgkSSp6iwJSZIklYAZFkmSKs5VQpIkqfQsCUmSJJWAGRZJkirOVUKSJKn0LAlJkiSVgBmWBvPTU4/nrjtvZa0BA/nVRX8A4IJz/ptrx11J/wEDADjsiK8x/EMfYeHCBfzshycy6YnHWLRoER/f7VMc9PkvMn3aVH5y8neZNfNlIoLd99yXvT/92e68LakymgIuHL0N01+dzzGX/o1tNl6Lo3fehN69gsemvsrJf3yCRZl8brsN2fXdgwFobgo2Xnt1dvnZHbzyxkIOHj6EUVuvD5lMmvE6Pxj3OG8uequb70zdyVVChYjoC7w9M5/o5PGok+2y+57sud+B/NdJ312qfZ8DP8v+Bx+6VNttN93AgjcXMPa3V/LGG/M4/OC9GbHLbvTuvQpjjvoGwzbbgrmvv85XDjuQ9w/fno2GvrML70SqpoOGb8gzL81l9VV7EcCJe76LL//2Af4xcx5HfGwon3zf27j6gSlceNfzXHjX8wB8ZNggDt52Q155YyHrrLkKnx4+hAP+56/MX/gWP9xnS0ZuuS7XPDS1e29M3aoB4pUVl4Qi4lPAA8B1xfFWETGuswemzvHerbdhzX796zo3CN54Yy6LFi7kzfnzae7dm9VWX4NBa6/DsM22AGC11Vfn7RsN5aUZ0ztz2FKPsO6aq7LDJoO46oEXAei/Wm8WLkr+MXMeAHc/PZOdNl/nX677xJaDuf6RaUuOezUFqzY30SuCPr2bmPHa/K65Aakb1TOH5URgODAbIDMfAIZ24pjUDcZdfglHfG5ffnrq8bz6yisAfGSnXejTZzUO3HNnPrP3SPY76BD6LRPsTJ0ymUlPPc7mW76nO4YtVco3Rm7CLydMIrN2PHvuAno1Be9ab00Adn7XOgzut+pS16za3MT27xzITY/NAGDGq2/y2788zzVf257rjv4Qr81fyN1Pz+rS+1D5NEV02FZW9QQsCzJzzjJt2dYFETEmIiZGxMTfnX/Oyo9OXeJT+3ya31z2f5x9/mUMHLQ2Y888HYAnHn2Ypl5NXDzuRi64/FquuOR8pkx+Ycl18+bO5aTvfJ0v/cexrL76Gt01fKkSPrzJIGa+voDHp762VPt3rnyEr++yCed/4QPMfXMRi95a+o/Xj266Ng8+P4dX3lgIwJp9mvnYZmuz51l3sesZf6Zv717sVsx1UeOKDtzKqp45LI9ExMFAr4gYBnwN+HNbF2TmWGAswHMvz28zuFH3GzBw0JL93Ubty/e/+VUAbrrhT3xw2x1obu7NgIGD2PI9W/Pk44+w3gZDWLhwASd95+vsNHIPPrzjx7tr6FJlvG/D/nx000HssMl2rNLcxBqrNnPSqHdx/NWPcfgF9wOw7TsG8PaBqy113cgt1l2qHDR86ABenD2P2XMXAHDz4zN475D+XPvwNKSerJ4My1HAlsB84GLgFeDozhyUutbLL81Ysn/nrTex8TuGAbDu4PV44N6/AjBv3lwee+QhNtxoKJnJz047gbdvPJT9Dvp8t4xZqpr/d/PT7PHLv7DnWXfx3T88yj3PzuL4qx9jwGq9AejdKzhk+4244r7JS65ZfdVevH+jtbj1yZeWtE2dM593b9CfVZtrf3x/cOgAnn3p9a69GZVPA6RYVphhycy5wHeLTRV32vHH8tD9E5kzezYHj/o4n/vil3novon8/anHiQgGr7c+/3Hs8QDsue+BnH7q9zn8M3uTmYzcYxTv2GRTHn7wPm687hqGvnMYRx6yP/DPpdCS2udz27+djwwbRFMEl987mYnPzl7y2YjN1uHup2fyxoJ/Lll+5MVXmPDYdC764jYseit5YtprXHn/i90xdJVIIzw4LjLbrthExM0sZ85KZu5UTweWhKTuse/ZbVZuJXWiid8b0aURxN1/n9Nh/63d9p39Sxn91DOH5Zst9vsA+wILO2c4kiSpvUq8uKfD1FMSuneZpjsj4q+dNB5JktRODRCvrDhgiYiBLQ6bgA8A9T15TJIkqQPUUxK6l9oclqBWCnoGGN2Zg5IkSe3QACmWNgOWiGgCPpuZd3bReCRJUjs1wiqhNp/DkplvAWd10VgkSZKWq54Hx02IiH0jGmEOsiRJ1RPRcVtZtRqwRMRpxe4RwGXA/Ih4JSJejYhXumR0kiRphRrgQbdtZlh2BcjMNTOzKTNXycx+xXG/LhqfJElSm5Nue0XEAFoJuDJzZucMSZIktUuZUyMdpK2AZXNqS5qX968hgXd0yogkSVK7NMIqobYClkczc+suG4kkSVIr6nlwnCRJKrEyr+7pKG0FLGd02SgkSdJKa4B4pfWAJTN/04XjkCRJK6sBIpZ6HhwnSZLUrZzDIklSxTX0KqGIOJPa8uXlysyvdcqIJElSu3TVpNuI2BC4ABhMLUYYm5lnRMRA4FJgY+BZ4IDMnFW81ucMYHdgLnBoZt5XfNchwPeKrz4lM89vq++2MiwTV/qOJElST7QQ+EZm3hcRawL3RsR44FBgQmb+KCK+DXwbOA7YDRhWbNsCZwPbFgHOCcA21AKfeyNiXGbOaq3jtibdthnpSJKkcuiqglBmTgGmFPuvRsRjwAbAKGDH4rTzgVuoBSyjgAsyM4G7ImKtiFivOHf84qfmF0HPrsDFrfW9wjksEbFO0ekWQJ8Wg96pPTcpSZI6SQdGLBExBhjTomlsZo5dznkbA1sDdwODi2AGYCq1khHUgpnnW1z2QtHWWnur6pl0exG1utQewJHAIcCMOq6TJEkVUwQn/xKgtBQRawBXAEdn5ivRYhJNZmZEtDoHdmXVs6x5UGaeCyzIzFsz8zDA7IokSSURHfjPCvuK6E0tWLkoM68smqcVpR6Kn9OL9snAhi0uH1K0tdbeqnoClgXFzykRsUdEbA0MrOM6SZLUBSI6bmu7nwjgXOCxzPxZi4/GUavAUPy8ukX756NmO2BOUTq6HhgZEQMiYgAwsmhrVT0loVMioj/wDeBMoB9wTB3XSZKknmUH4HPA3yLigaLtO8CPgN9HxGjgOeCA4rM/UVvSPInasuYvAGTmzIg4GbinOO+kxRNwW7PCgCUzryl25wAj6r0jSZLUNbpwldAdbXS383LOT+ArrXzXecB59fZdzyqhX7OcB8gVc1kkSVJ36/kPuq2rJHRNi/0+wCqdnrAAAAkRSURBVN7Ai50zHEmSpH9VT0noipbHEXExcEenjUiSJLVLQ79LqA3DgHU7eiCSJGnldNW7hLpTPXNYXmXpOSxTqT35VpIkqUvUUxJasysGIkmSVk4DJFhW/OC4iJhQT5skSeom0YFbSbWaYYmIPsBqwNrFU+gW30Y/VvCCIkmSpI7UVknoCOBoYH3gXv4ZsLwCnNXJ45IkSXVq6FVCmXkGcEZEHJWZZ3bhmCRJUjs0wiqhel5++FZErLX4oHhR0Zc7cUySJElLqSdgOTwzZy8+yMxZwOGdNyRJktQeDTDntq4Hx/WKiCheYERE9AJW6dxhSZKkupU50ugg9QQs1wGXRsT/FsdHFG2SJEldop6A5ThgDPCl4ng88KtOG5EkSWqXRlgltMI5LJn5Vmb+T2bul5n7AY8CrhqSJKkkIjpuK6u6Xn4YEVsDBwEHAM8AV3bmoCRJklpq60m3m1ILUg4CXgIuBSIzR3TR2CRJUh1KnBjpMG1lWB4Hbgc+mZmTACLimC4ZlSRJql8DRCxtzWHZB5gC3BwRv4qInWmIfyWSJKlsWg1YMvOqzDwQ2By4mdp7hdaNiLMjYmRXDVCSJLUtOvCfsqpnldDrmfm7zPwUMAS4n9pSZ0mSVAKNsEqonkfzL5GZszJzbGbu3FkDkiRJWlZdy5olSVJ5lTgx0mEMWCRJqrgyl3I6SrtKQpIkSd3BDIskSZXX81MsBiySJFWcJSFJkqQSMMMiSVLFNUCCxYBFkqSqsyQkSZJUAmZYJEmquDK/A6ijGLBIklR1PT9esSQkSZLKzwyLJEkV1wAJFgMWSZKqzlVCkiRJJWCGRZKkinOVkCRJKr+eH69YEpIkSeVnhkWSpIprgASLAYskSVXXCKuEDFgkSaq4Rph06xwWSZJUemZYJEmquEYoCZlhkSRJpWfAIkmSSs+SkCRJFdcIJSEDFkmSKs5VQpIkSSVghkWSpIqzJCRJkkqvAeIVS0KSJKn8DFgkSaq66MBtRV1FnBcR0yPi4RZtAyNifEQ8VfwcULRHRPwyIiZFxEMR8f4W1xxSnP9URByyon4NWCRJqrjowH/q8Btg12Xavg1MyMxhwITiGGA3YFixjQHOhlqAA5wAbAsMB05YHOS0xoBFkiTVLTNvA2Yu0zwKOL/YPx/Yq0X7BVlzF7BWRKwHfAIYn5kzM3MWMJ5/DYKWYsAiSVLFRXTkFmMiYmKLbUwdQxicmVOK/anA4GJ/A+D5Fue9ULS11t4qVwlJklRxHblKKDPHAmP/jeszIrIDhwSYYZEkSf++aUWph+Ln9KJ9MrBhi/OGFG2ttbfKgEWSpKrrwlVCrRgHLF7pcwhwdYv2zxerhbYD5hSlo+uBkRExoJhsO7Joa5UlIUmSKq4r3yUUERcDOwJrR8QL1Fb7/Aj4fUSMBp4DDihO/xOwOzAJmAt8ASAzZ0bEycA9xXknZeayE3mXYsAiSZLqlpkHtfLRzss5N4GvtPI95wHn1duvAYskSRXXCO8SilrwIy1fRIwpZoxL6kL+7klLc9KtVqSe9feSOp6/e1ILBiySJKn0DFgkSVLpGbBoRayhS93D3z2pBSfdSpKk0jPDIkmSSs+ARZIklZ4BS4lExKKIeCAiHo6IyyJitX/ju34TEfsV++dExBZtnLtjRHxoJfp4NiLWbqX9b8W9PNDWd7f2HVJ36Am/gxFxd3EP/4iIGS1+Dzdu7/dLZeKTbstlXmZuBRARFwFHAj9b/GFENGfmwvZ+aWZ+cQWn7Ai8Bvy5vd/dhhGZ+VIHfp/UFSr/O5iZ2wJExKHANpn51Zafr+w9SN3NDEt53Q5sUvzN6/aIGAc8GhG9IuInEXFPRDwUEUcAFG/CPCsinoiIG4F1F39RRNwSEdsU+7tGxH0R8WBETCj+1nUkcEzxt7CPRMQ6EXFF0cc9EbFDce2giLghIh6JiHNox3s9I+KqiLi3uPZfHogVEatHxP8V43o4Ij5dtH8gIm4trr1+8evLpS7QY34HI+LEiLgwIu4ELoyIQyPirBafXxMROxb7IyPiL8UYL4uINf79f5XSv88MSwlFRDOwG3Bd0fR+4N2Z+UzxH/s5mfnBiFgVuDMibgC2BjYDtgAGA4+yzEulImId4FfAR4vvGli8MfN/gNcy8/TivN8BP8/MOyLi7dRe+f0uam/kvCMzT4qIPYDRbdzGzRGxCJhf/I3vsKKvvsA9EXFFZr7c4vxdgRczc49iDP0jojdwJjAqM2cUQcypwGHt/pcqtUMP+R1c1hbAhzNzXpF9Wd59rw18D/h4Zr4eEccBXwdOakc/UqcwYCmXvhHxQLF/O3Au8CHgr5n5TNE+EnhvFLVxoD8wDPgocHFmLgJejIiblvP92wG3Lf6uNl7l/XFgi/jn27T6FX/L+iiwT3Ht/0XErDbuZdmS0NciYu9if8NizC0Dlr8BP42IHwPXZObtEfFu4N3A+GIsvYApbfQp/bt60u/gssZl5rwVnLMdtcDmzqLvVYC/tKMPqdMYsJTLkvr5YsUfGq+3bAKOyszrlzlv9w4cRxOwXWa+sZyxtFuRav44sH1mzo2IW4A+Lc/JzCcj4v3A7sApETEB+APwSGZuv1IdS+3XI38HCy3vYSFLTwlY/PsYwPjMPOjf6UjqDM5hqZ7rgS8V5RIiYtOIWB24Dfh0UV9fDxixnGvvAj4aEUOLawcW7a8Ca7Y47wbgqMUHEbH4D/DbgIOLtt2AAXWOuT8wqwhWNqf2t7ilRMT6wNzM/C3wE2op+CeAdSJi++Kc3hGxZZ19Sp2lir+Dy3oW2CoimiJiQ2B4i/HtEBGbFH2sHhGbrmQfUocyw1I95wAbA/dF7a9bM4C9qGUjdqJWN/8Hy0njFvNAxgBXRkQTMB3YBfgjcHlEjKL2h+TXgP8XEQ9R+//IbdQmBf4AuDgiHqG2muEfdY75OuDIiHiMWhBy13LOeQ/wk4h4C1gAfCkz3yzS7r+MiP7FWH4BPFJnv1JnqOLv4LLuBJ4pxvoYcF+L8R1a9LFqce73gCdXsh+pw/hofkmSVHqWhCRJUukZsEiSpNIzYJEkSaVnwCJJkkrPgEWSJJWeAYskSSo9AxZJklR6/x/taMaSf/JGTQAAAABJRU5ErkJggg==\n",
                "text/plain": "<Figure size 720x504 with 2 Axes>"
              }
            ],
            "_view_module": "@jupyter-widgets/output",
            "_model_module_version": "1.0.0",
            "_view_count": null,
            "_view_module_version": "1.0.0",
            "layout": "IPY_MODEL_df2f68bf1251490ba75a4589ce580b50",
            "_model_module": "@jupyter-widgets/output"
          }
        },
        "9d2920e384b74f6aa3162ebf9247cb51": {
          "model_module": "@jupyter-widgets/controls",
          "model_name": "SliderStyleModel",
          "state": {
            "_view_name": "StyleView",
            "handle_color": null,
            "_model_name": "SliderStyleModel",
            "description_width": "",
            "_view_module": "@jupyter-widgets/base",
            "_model_module_version": "1.5.0",
            "_view_count": null,
            "_view_module_version": "1.2.0",
            "_model_module": "@jupyter-widgets/controls"
          }
        },
        "25db720074324717a7f8bb669b49ba07": {
          "model_module": "@jupyter-widgets/base",
          "model_name": "LayoutModel",
          "state": {
            "_view_name": "LayoutView",
            "grid_template_rows": null,
            "right": null,
            "justify_content": null,
            "_view_module": "@jupyter-widgets/base",
            "overflow": null,
            "_model_module_version": "1.2.0",
            "_view_count": null,
            "flex_flow": null,
            "width": null,
            "min_width": null,
            "border": null,
            "align_items": null,
            "bottom": null,
            "_model_module": "@jupyter-widgets/base",
            "top": null,
            "grid_column": null,
            "overflow_y": null,
            "overflow_x": null,
            "grid_auto_flow": null,
            "grid_area": null,
            "grid_template_columns": null,
            "flex": null,
            "_model_name": "LayoutModel",
            "justify_items": null,
            "grid_row": null,
            "max_height": null,
            "align_content": null,
            "visibility": null,
            "align_self": null,
            "height": null,
            "min_height": null,
            "padding": null,
            "grid_auto_rows": null,
            "grid_gap": null,
            "max_width": null,
            "order": null,
            "_view_module_version": "1.2.0",
            "grid_template_areas": null,
            "object_position": null,
            "object_fit": null,
            "grid_auto_columns": null,
            "margin": null,
            "display": null,
            "left": null
          }
        },
        "df2f68bf1251490ba75a4589ce580b50": {
          "model_module": "@jupyter-widgets/base",
          "model_name": "LayoutModel",
          "state": {
            "_view_name": "LayoutView",
            "grid_template_rows": null,
            "right": null,
            "justify_content": null,
            "_view_module": "@jupyter-widgets/base",
            "overflow": null,
            "_model_module_version": "1.2.0",
            "_view_count": null,
            "flex_flow": null,
            "width": null,
            "min_width": null,
            "border": null,
            "align_items": null,
            "bottom": null,
            "_model_module": "@jupyter-widgets/base",
            "top": null,
            "grid_column": null,
            "overflow_y": null,
            "overflow_x": null,
            "grid_auto_flow": null,
            "grid_area": null,
            "grid_template_columns": null,
            "flex": null,
            "_model_name": "LayoutModel",
            "justify_items": null,
            "grid_row": null,
            "max_height": null,
            "align_content": null,
            "visibility": null,
            "align_self": null,
            "height": null,
            "min_height": null,
            "padding": null,
            "grid_auto_rows": null,
            "grid_gap": null,
            "max_width": null,
            "order": null,
            "_view_module_version": "1.2.0",
            "grid_template_areas": null,
            "object_position": null,
            "object_fit": null,
            "grid_auto_columns": null,
            "margin": null,
            "display": null,
            "left": null
          }
        }
      }
    }
  },
  "cells": [
    {
      "cell_type": "markdown",
      "metadata": {
        "id": "view-in-github",
        "colab_type": "text"
      },
      "source": [
        "<a href=\"https://colab.research.google.com/github/Khislatz/DS-Unit-2-Kaggle-Challenge/blob/master/module4-classification-metrics/Khislat_Zhuraeva_LS_DS_224_assignment.ipynb\" target=\"_parent\"><img src=\"https://colab.research.google.com/assets/colab-badge.svg\" alt=\"Open In Colab\"/></a>"
      ]
    },
    {
      "cell_type": "markdown",
      "metadata": {
        "id": "gccwsNJ-Oxuk",
        "colab_type": "text"
      },
      "source": [
        "Lambda School Data Science\n",
        "\n",
        "*Unit 2, Sprint 2, Module 4*\n",
        "\n",
        "---"
      ]
    },
    {
      "cell_type": "markdown",
      "metadata": {
        "colab_type": "text",
        "id": "nCc3XZEyG3XV"
      },
      "source": [
        "# Classification Metrics\n",
        "\n",
        "## Assignment\n",
        "- [ ] If you haven't yet, [review requirements for your portfolio project](https://lambdaschool.github.io/ds/unit2), then submit your dataset.\n",
        "- [ ] Plot a confusion matrix for your Tanzania Waterpumps model.\n",
        "- [ ] Continue to participate in our Kaggle challenge. Every student should have made at least one submission that scores at least 70% accuracy (well above the majority class baseline).\n",
        "- [ ] Submit your final predictions to our Kaggle competition. Optionally, go to **My Submissions**, and _\"you may select up to 1 submission to be used to count towards your final leaderboard score.\"_\n",
        "- [ ] Commit your notebook to your fork of the GitHub repo.\n",
        "- [ ] Read [Maximizing Scarce Maintenance Resources with Data: Applying predictive modeling, precision at k, and clustering to optimize impact](https://towardsdatascience.com/maximizing-scarce-maintenance-resources-with-data-8f3491133050), by Lambda DS3 student Michael Brady. His blog post extends the Tanzania Waterpumps scenario, far beyond what's in the lecture notebook.\n",
        "\n",
        "\n",
        "## Stretch Goals\n",
        "\n",
        "### Reading\n",
        "\n",
        "- [Attacking discrimination with smarter machine learning](https://research.google.com/bigpicture/attacking-discrimination-in-ml/), by Google Research, with  interactive visualizations. _\"A threshold classifier essentially makes a yes/no decision, putting things in one category or another. We look at how these classifiers work, ways they can potentially be unfair, and how you might turn an unfair classifier into a fairer one. As an illustrative example, we focus on loan granting scenarios where a bank may grant or deny a loan based on a single, automatically computed number such as a credit score.\"_\n",
        "- [Notebook about how to calculate expected value from a confusion matrix by treating it as a cost-benefit matrix](https://github.com/podopie/DAT18NYC/blob/master/classes/13-expected_value_cost_benefit_analysis.ipynb)\n",
        "- [Visualizing Machine Learning Thresholds to Make Better Business Decisions](https://blog.insightdatascience.com/visualizing-machine-learning-thresholds-to-make-better-business-decisions-4ab07f823415)\n",
        "\n",
        "\n",
        "### Doing\n",
        "- [ ] Share visualizations in our Slack channel!\n",
        "- [ ] RandomizedSearchCV / GridSearchCV, for model selection. (See module 3 assignment notebook)\n",
        "- [ ] Stacking Ensemble. (See module 3 assignment notebook)\n",
        "- [ ] More Categorical Encoding. (See module 2 assignment notebook)"
      ]
    },
    {
      "cell_type": "code",
      "metadata": {
        "colab_type": "code",
        "id": "lsbRiKBoB5RE",
        "colab": {}
      },
      "source": [
        "%%capture\n",
        "import sys\n",
        "\n",
        "# If you're on Colab:\n",
        "if 'google.colab' in sys.modules:\n",
        "    DATA_PATH = 'https://raw.githubusercontent.com/LambdaSchool/DS-Unit-2-Kaggle-Challenge/master/data/'\n",
        "    !pip install category_encoders==2.*\n",
        "\n",
        "# If you're working locally:\n",
        "else:\n",
        "    DATA_PATH = '../data/'"
      ],
      "execution_count": 0,
      "outputs": []
    },
    {
      "cell_type": "code",
      "metadata": {
        "colab_type": "code",
        "id": "BVA1lph8CcNX",
        "colab": {}
      },
      "source": [
        "import pandas as pd\n",
        "\n",
        "# Merge train_features.csv & train_labels.csv\n",
        "train = pd.merge(pd.read_csv(DATA_PATH+'waterpumps/train_features.csv'), \n",
        "                 pd.read_csv(DATA_PATH+'waterpumps/train_labels.csv'))\n",
        "\n",
        "# Read test_features.csv & sample_submission.csv\n",
        "test = pd.read_csv(DATA_PATH+'waterpumps/test_features.csv')\n",
        "sample_submission = pd.read_csv(DATA_PATH+'waterpumps/sample_submission.csv')"
      ],
      "execution_count": 0,
      "outputs": []
    },
    {
      "cell_type": "code",
      "metadata": {
        "id": "TyYEvoH7OxvA",
        "colab_type": "code",
        "colab": {
          "base_uri": "https://localhost:8080/",
          "height": 90
        },
        "outputId": "f7f3297f-a165-487f-8bba-fbf36a599169"
      },
      "source": [
        "%matplotlib inline\n",
        "import category_encoders as ce \n",
        "import matplotlib.pyplot as plt\n",
        "import numpy as np\n",
        "import pandas as pd\n",
        "import seaborn as sns \n",
        "from sklearn.model_selection import train_test_split\n",
        "from sklearn.metrics import accuracy_score\n",
        "from sklearn.impute import SimpleImputer\n",
        "from sklearn.pipeline import make_pipeline\n",
        "from sklearn.ensemble import RandomForestClassifier\n",
        "# Split train into train & val. Make val the same size as test.\n",
        "target = 'status_group'\n",
        "train, val  =  train_test_split(train, test_size=len(test),  \n",
        "                              stratify=train[target], random_state=42)\n",
        "train.shape, val.shape, test.shape "
      ],
      "execution_count": 3,
      "outputs": [
        {
          "output_type": "stream",
          "text": [
            "/usr/local/lib/python3.6/dist-packages/statsmodels/tools/_testing.py:19: FutureWarning: pandas.util.testing is deprecated. Use the functions in the public API at pandas.testing instead.\n",
            "  import pandas.util.testing as tm\n"
          ],
          "name": "stderr"
        },
        {
          "output_type": "execute_result",
          "data": {
            "text/plain": [
              "((45042, 41), (14358, 41), (14358, 40))"
            ]
          },
          "metadata": {
            "tags": []
          },
          "execution_count": 3
        }
      ]
    },
    {
      "cell_type": "code",
      "metadata": {
        "id": "m8A5KabYI0Pf",
        "colab_type": "code",
        "colab": {}
      },
      "source": [
        "def wrangle(X):\n",
        "    \"\"\"Wrangles train, validate, and test sets in the same way\"\"\"\n",
        "    X = X.copy()\n",
        "\n",
        "    # Convert date_recorded to datetime\n",
        "    X['date_recorded'] = pd.to_datetime(X['date_recorded'], infer_datetime_format=True)\n",
        "    \n",
        "    # Extract components from date_recorded, then drop the original column\n",
        "    X['year_recorded'] = X['date_recorded'].dt.year\n",
        "    X['month_recorded'] = X['date_recorded'].dt.month\n",
        "    X['day_recorded'] = X['date_recorded'].dt.day\n",
        "    X = X.drop(columns='date_recorded')\n",
        "    \n",
        "    # Engineer feature: how many years from construction_year to date_recorded\n",
        "    X['years'] = X['year_recorded'] - X['construction_year']    \n",
        "    \n",
        "    # Drop recorded_by (never varies) and id (always varies, random)\n",
        "    unusable_variance = ['recorded_by', 'id']\n",
        "    X = X.drop(columns=unusable_variance)\n",
        "    \n",
        "    # Drop duplicate columns\n",
        "    duplicate_columns = ['quantity_group']\n",
        "    X = X.drop(columns=duplicate_columns)\n",
        "    \n",
        "    # About 3% of the time, latitude has small values near zero,\n",
        "    # outside Tanzania, so we'll treat these like null values\n",
        "    X['latitude'] = X['latitude'].replace(-2e-08, np.nan)\n",
        "    \n",
        "    # When columns have zeros and shouldn't, they are like null values\n",
        "    cols_with_zeros = ['construction_year', 'longitude', 'latitude', 'gps_height', 'population']\n",
        "    for col in cols_with_zeros:\n",
        "        X[col] = X[col].replace(0, np.nan)\n",
        "        "
      ],
      "execution_count": 0,
      "outputs": []
    },
    {
      "cell_type": "code",
      "metadata": {
        "id": "-KnFk8uVKFxV",
        "colab_type": "code",
        "colab": {}
      },
      "source": [
        "X_train = wrangle(train)\n",
        "X_test = wrangle(test)\n",
        "X_val = wrangle(val)\n",
        "\n"
      ],
      "execution_count": 0,
      "outputs": []
    },
    {
      "cell_type": "code",
      "metadata": {
        "id": "jPXS3auUKQjA",
        "colab_type": "code",
        "colab": {}
      },
      "source": [
        "# Arrange data into X features matrix and y target vector\n",
        "X_train = train.drop(columns = target)\n",
        "y_train = train[target]\n",
        "X_val = val.drop(columns=target)\n",
        "y_val = val[target]\n",
        "X_test = test\n"
      ],
      "execution_count": 0,
      "outputs": []
    },
    {
      "cell_type": "code",
      "metadata": {
        "id": "fJ775sQQLbgB",
        "colab_type": "code",
        "colab": {
          "base_uri": "https://localhost:8080/",
          "height": 35
        },
        "outputId": "9065ef9d-b60b-48c0-dcbb-4da0d60f91d0"
      },
      "source": [
        "# Make pipeline!\n",
        "\n",
        "pipeline = make_pipeline(\n",
        "    ce.OrdinalEncoder(),\n",
        "    SimpleImputer(strategy='mean'),\n",
        "    RandomForestClassifier(n_estimators=100, n_jobs=-1, random_state=42)\n",
        ")\n",
        "\n",
        "# Fit on train, score on val\n",
        "\n",
        "pipeline = pipeline.fit(X_train, y_train)\n",
        "y_pred = pipeline.predict(X_val)\n",
        "print(f'Validation accuracy {accuracy_score(y_pred, y_val)}')"
      ],
      "execution_count": 7,
      "outputs": [
        {
          "output_type": "stream",
          "text": [
            "Validation accuracy 0.8106978687839532\n"
          ],
          "name": "stdout"
        }
      ]
    },
    {
      "cell_type": "markdown",
      "metadata": {
        "id": "X4FvtETcMonj",
        "colab_type": "text"
      },
      "source": [
        "#Confusion Matrix "
      ]
    },
    {
      "cell_type": "code",
      "metadata": {
        "id": "eVM5pv6bL-TB",
        "colab_type": "code",
        "colab": {
          "base_uri": "https://localhost:8080/",
          "height": 388
        },
        "outputId": "80426dfe-6370-4f15-cdf4-c23aca1dc44f"
      },
      "source": [
        "from sklearn.metrics import plot_confusion_matrix\n",
        "\n",
        "plot_confusion_matrix(pipeline, X_val, y_val,\n",
        "                      xticks_rotation = 'vertical',\n",
        "                      values_format = '.0f',\n",
        "                      cmap='Blues');\n"
      ],
      "execution_count": 8,
      "outputs": [
        {
          "output_type": "display_data",
          "data": {
            "image/png": "[encoded data removed]",
            "text/plain": [
              "<Figure size 432x288 with 2 Axes>"
            ]
          },
          "metadata": {
            "tags": [],
            "needs_background": "light"
          }
        }
      ]
    },
    {
      "cell_type": "code",
      "metadata": {
        "id": "f4_LNgmKPYRE",
        "colab_type": "code",
        "colab": {
          "base_uri": "https://localhost:8080/",
          "height": 389
        },
        "outputId": "a246c1b0-3e2e-4921-f603-98c88b90ee7e"
      },
      "source": [
        "plot_confusion_matrix(pipeline, X_val, y_val,\n",
        "                      xticks_rotation = 'vertical',\n",
        "                      normalize = 'true',\n",
        "                      values_format='.2f',\n",
        "                      cmap='Blues');\n",
        "\n",
        "#first row, first column  = 7031 / (7031 + 152 + 615) = 0.90\n",
        "#first row, second column = 152 / (7031 + 152 + 615) = 0.019 or 0.02 etc.      "
      ],
      "execution_count": 9,
      "outputs": [
        {
          "output_type": "display_data",
          "data": {
            "image/png": "[encoded data removed]",
            "text/plain": [
              "<Figure size 432x288 with 2 Axes>"
            ]
          },
          "metadata": {
            "tags": [],
            "needs_background": "light"
          }
        }
      ]
    },
    {
      "cell_type": "code",
      "metadata": {
        "id": "uesaz11dSEv3",
        "colab_type": "code",
        "colab": {
          "base_uri": "https://localhost:8080/",
          "height": 70
        },
        "outputId": "3bbe6805-2885-488e-d17b-8bd1ba9549d6"
      },
      "source": [
        "from sklearn.metrics import confusion_matrix\n",
        "cm = confusion_matrix(y_val, y_pred)\n",
        "cm"
      ],
      "execution_count": 10,
      "outputs": [
        {
          "output_type": "execute_result",
          "data": {
            "text/plain": [
              "array([[7031,  152,  615],\n",
              "       [ 571,  317,  155],\n",
              "       [1162,   63, 4292]])"
            ]
          },
          "metadata": {
            "tags": []
          },
          "execution_count": 10
        }
      ]
    },
    {
      "cell_type": "code",
      "metadata": {
        "id": "nmcMQcb3SN37",
        "colab_type": "code",
        "colab": {
          "base_uri": "https://localhost:8080/",
          "height": 70
        },
        "outputId": "eb733979-fd07-4852-bacb-a11048c2bb40"
      },
      "source": [
        "normalized_cm = cm/cm.sum(axis=1)[:, np.newaxis] #axis=1 is rows\n",
        "normalized_cm"
      ],
      "execution_count": 11,
      "outputs": [
        {
          "output_type": "execute_result",
          "data": {
            "text/plain": [
              "array([[0.90164145, 0.01949218, 0.07886638],\n",
              "       [0.54745925, 0.30393097, 0.14860978],\n",
              "       [0.21062171, 0.01141925, 0.77795904]])"
            ]
          },
          "metadata": {
            "tags": []
          },
          "execution_count": 11
        }
      ]
    },
    {
      "cell_type": "code",
      "metadata": {
        "id": "jR1bbwMWSWxF",
        "colab_type": "code",
        "colab": {
          "base_uri": "https://localhost:8080/",
          "height": 70
        },
        "outputId": "e8e2c688-ff64-4084-9c2d-ba645ad85aff"
      },
      "source": [
        "cm.sum(axis=1)[:, np.newaxis] # np.newaxis converted sums from row to column; np.newaxis adds a new dimension \n",
        "# first row 7031+152+615 = 7798\n",
        "#second row 571+317+155 = 1043\n",
        "#third row 1162+63+4292 = 5517"
      ],
      "execution_count": 12,
      "outputs": [
        {
          "output_type": "execute_result",
          "data": {
            "text/plain": [
              "array([[7798],\n",
              "       [1043],\n",
              "       [5517]])"
            ]
          },
          "metadata": {
            "tags": []
          },
          "execution_count": 12
        }
      ]
    },
    {
      "cell_type": "code",
      "metadata": {
        "id": "wH_6HYT8Uqxf",
        "colab_type": "code",
        "colab": {
          "base_uri": "https://localhost:8080/",
          "height": 52
        },
        "outputId": "e894d90d-6f00-42b2-8cee-d14ba03795dd"
      },
      "source": [
        "import seaborn as sns\n",
        "from sklearn.utils.multiclass import unique_labels\n",
        "unique_labels(y_val) #similar to y_val.unique but unique_labels returns in the CORRECT ORDER: functional - class 1; functional neeeds repair - class 2;\n",
        "#non funtional - class 3"
      ],
      "execution_count": 13,
      "outputs": [
        {
          "output_type": "execute_result",
          "data": {
            "text/plain": [
              "array(['functional', 'functional needs repair', 'non functional'],\n",
              "      dtype='<U23')"
            ]
          },
          "metadata": {
            "tags": []
          },
          "execution_count": 13
        }
      ]
    },
    {
      "cell_type": "code",
      "metadata": {
        "id": "Vu9suj6GX6vg",
        "colab_type": "code",
        "colab": {
          "base_uri": "https://localhost:8080/",
          "height": 52
        },
        "outputId": "4363c206-4b4d-4d32-f638-cc2b31f10390"
      },
      "source": [
        "y_val.unique() #in a random order"
      ],
      "execution_count": 14,
      "outputs": [
        {
          "output_type": "execute_result",
          "data": {
            "text/plain": [
              "array(['non functional', 'functional', 'functional needs repair'],\n",
              "      dtype=object)"
            ]
          },
          "metadata": {
            "tags": []
          },
          "execution_count": 14
        }
      ]
    },
    {
      "cell_type": "code",
      "metadata": {
        "id": "DTK4hicBYcF-",
        "colab_type": "code",
        "colab": {
          "base_uri": "https://localhost:8080/",
          "height": 431
        },
        "outputId": "e969890c-573d-4000-b3db-9ddadcee3307"
      },
      "source": [
        "cols = unique_labels(y_val)\n",
        "df_cm =pd.DataFrame(cm, \n",
        "                    columns=['Predicted' + col for col in cols],\n",
        "                    index=['Actual' + col for col in cols])\n",
        "plt.figure(figsize=(10,7))\n",
        "sns.heatmap(df_cm, annot=True, cmap='Blues', fmt='.0f'); \n",
        "# annot = True - lables/sets the vertical and horizontal axis according to columns and rows\n"
      ],
      "execution_count": 15,
      "outputs": [
        {
          "output_type": "display_data",
          "data": {
            "image/png": "[encoded data removed]",
            "text/plain": [
              "<Figure size 720x504 with 2 Axes>"
            ]
          },
          "metadata": {
            "tags": [],
            "needs_background": "light"
          }
        }
      ]
    },
    {
      "cell_type": "code",
      "metadata": {
        "id": "-cKy6uCiZda-",
        "colab_type": "code",
        "colab": {
          "base_uri": "https://localhost:8080/",
          "height": 432
        },
        "outputId": "52074fae-2be1-463b-94e7-d56cd3048957"
      },
      "source": [
        "cols = unique_labels(y_val)\n",
        "df_cm =pd.DataFrame(normalized_cm, columns=['Predicted' + col for col in cols],\n",
        "                    index=['Actual' + col for col in cols])\n",
        "plt.figure(figsize=(10,7))\n",
        "sns.heatmap(df_cm, annot=True, cmap='Blues', fmt='.2f'); \n",
        "# annot = True - lables/sets the vertical and horizontal axis according to columns and rows"
      ],
      "execution_count": 16,
      "outputs": [
        {
          "output_type": "display_data",
          "data": {
            "image/png": "[encoded data removed]",
            "text/plain": [
              "<Figure size 720x504 with 2 Axes>"
            ]
          },
          "metadata": {
            "tags": [],
            "needs_background": "light"
          }
        }
      ]
    },
    {
      "cell_type": "code",
      "metadata": {
        "id": "GZq2yOS0ZxIF",
        "colab_type": "code",
        "colab": {
          "base_uri": "https://localhost:8080/",
          "height": 431
        },
        "outputId": "e1cbeb55-02ed-40d9-e677-020c98beebc4"
      },
      "source": [
        "def plot_cm(y_val, y_pred, normalize=False):\n",
        "  cols = unique_labels(y_val)\n",
        "  cm = confusion_matrix(y_val, y_pred)\n",
        "  if normalize:\n",
        "    cm/cm.sum(axis=1)[:, np.newaxis]\n",
        "    fmt = '.2f'\n",
        "  else:\n",
        "    fmt='.0f'\n",
        "  df_cm =pd.DataFrame(cm, \n",
        "                      columns=['Predicted ' + str(col) for col in cols],\n",
        "                    index=['Actual ' + str(col) for col in cols])\n",
        "  plt.figure(figsize=(10,7))\n",
        "  sns.heatmap(df_cm, annot=True, cmap='Blues', fmt=fmt)\n",
        "\n",
        "plot_cm(y_val, y_pred) "
      ],
      "execution_count": 17,
      "outputs": [
        {
          "output_type": "display_data",
          "data": {
            "image/png": "[encoded data removed]",
            "text/plain": [
              "<Figure size 720x504 with 2 Axes>"
            ]
          },
          "metadata": {
            "tags": [],
            "needs_background": "light"
          }
        }
      ]
    },
    {
      "cell_type": "code",
      "metadata": {
        "id": "jOvDmhFheNp0",
        "colab_type": "code",
        "colab": {
          "base_uri": "https://localhost:8080/",
          "height": 35
        },
        "outputId": "b31ed668-0518-4f13-ad64-b7bce26cda1d"
      },
      "source": [
        "#How many correct predictions were made?\n",
        "7031 + 317 + 4192"
      ],
      "execution_count": 18,
      "outputs": [
        {
          "output_type": "execute_result",
          "data": {
            "text/plain": [
              "11540"
            ]
          },
          "metadata": {
            "tags": []
          },
          "execution_count": 18
        }
      ]
    },
    {
      "cell_type": "code",
      "metadata": {
        "id": "LF5JpQhIejq5",
        "colab_type": "code",
        "colab": {
          "base_uri": "https://localhost:8080/",
          "height": 35
        },
        "outputId": "9de591cd-764c-4802-d725-186688122637"
      },
      "source": [
        "#How many total predictions were made?\n",
        "len(y_val)\n",
        "#OR\n",
        "cm.sum()"
      ],
      "execution_count": 19,
      "outputs": [
        {
          "output_type": "execute_result",
          "data": {
            "text/plain": [
              "14358"
            ]
          },
          "metadata": {
            "tags": []
          },
          "execution_count": 19
        }
      ]
    },
    {
      "cell_type": "code",
      "metadata": {
        "id": "MfN3FbdbevBt",
        "colab_type": "code",
        "colab": {
          "base_uri": "https://localhost:8080/",
          "height": 35
        },
        "outputId": "15a05cc6-a758-4053-de9c-4d309f827ed0"
      },
      "source": [
        "#What was the classification accuracy?\n",
        "11540 / 14358"
      ],
      "execution_count": 20,
      "outputs": [
        {
          "output_type": "execute_result",
          "data": {
            "text/plain": [
              "0.803733110461067"
            ]
          },
          "metadata": {
            "tags": []
          },
          "execution_count": 20
        }
      ]
    },
    {
      "cell_type": "code",
      "metadata": {
        "id": "RSYg5lonfCEI",
        "colab_type": "code",
        "colab": {
          "base_uri": "https://localhost:8080/",
          "height": 195
        },
        "outputId": "0e78256d-b225-40c8-98a1-7b145ca8e021"
      },
      "source": [
        "from sklearn.metrics import classification_report\n",
        "\n",
        "print(classification_report(y_val, y_pred))\n",
        "#we pass true labels - y_val and predicted y_pred\n"
      ],
      "execution_count": 21,
      "outputs": [
        {
          "output_type": "stream",
          "text": [
            "                         precision    recall  f1-score   support\n",
            "\n",
            "             functional       0.80      0.90      0.85      7798\n",
            "functional needs repair       0.60      0.30      0.40      1043\n",
            "         non functional       0.85      0.78      0.81      5517\n",
            "\n",
            "               accuracy                           0.81     14358\n",
            "              macro avg       0.75      0.66      0.69     14358\n",
            "           weighted avg       0.80      0.81      0.80     14358\n",
            "\n"
          ],
          "name": "stdout"
        }
      ]
    },
    {
      "cell_type": "code",
      "metadata": {
        "id": "v6Tl9j1GgsrD",
        "colab_type": "code",
        "colab": {
          "base_uri": "https://localhost:8080/",
          "height": 1000
        },
        "outputId": "f8eb9673-b2b7-472e-da96-2fb85eac6a8c"
      },
      "source": [
        "y_pred_baseline = ['functional'] *len(y_pred)\n",
        "y_pred_baseline"
      ],
      "execution_count": 22,
      "outputs": [
        {
          "output_type": "execute_result",
          "data": {
            "text/plain": [
              "['functional',\n",
              " 'functional',\n",
              " 'functional',\n",
              " 'functional',\n",
              " 'functional',\n",
              " 'functional',\n",
              " 'functional',\n",
              " 'functional',\n",
              " 'functional',\n",
              " 'functional',\n",
              " 'functional',\n",
              " 'functional',\n",
              " 'functional',\n",
              " 'functional',\n",
              " 'functional',\n",
              " 'functional',\n",
              " 'functional',\n",
              " 'functional',\n",
              " 'functional',\n",
              " 'functional',\n",
              " 'functional',\n",
              " 'functional',\n",
              " 'functional',\n",
              " 'functional',\n",
              " 'functional',\n",
              " 'functional',\n",
              " 'functional',\n",
              " 'functional',\n",
              " 'functional',\n",
              " 'functional',\n",
              " 'functional',\n",
              " 'functional',\n",
              " 'functional',\n",
              " 'functional',\n",
              " 'functional',\n",
              " 'functional',\n",
              " 'functional',\n",
              " 'functional',\n",
              " 'functional',\n",
              " 'functional',\n",
              " 'functional',\n",
              " 'functional',\n",
              " 'functional',\n",
              " 'functional',\n",
              " 'functional',\n",
              " 'functional',\n",
              " 'functional',\n",
              " 'functional',\n",
              " 'functional',\n",
              " 'functional',\n",
              " 'functional',\n",
              " 'functional',\n",
              " 'functional',\n",
              " 'functional',\n",
              " 'functional',\n",
              " 'functional',\n",
              " 'functional',\n",
              " 'functional',\n",
              " 'functional',\n",
              " 'functional',\n",
              " 'functional',\n",
              " 'functional',\n",
              " 'functional',\n",
              " 'functional',\n",
              " 'functional',\n",
              " 'functional',\n",
              " 'functional',\n",
              " 'functional',\n",
              " 'functional',\n",
              " 'functional',\n",
              " 'functional',\n",
              " 'functional',\n",
              " 'functional',\n",
              " 'functional',\n",
              " 'functional',\n",
              " 'functional',\n",
              " 'functional',\n",
              " 'functional',\n",
              " 'functional',\n",
              " 'functional',\n",
              " 'functional',\n",
              " 'functional',\n",
              " 'functional',\n",
              " 'functional',\n",
              " 'functional',\n",
              " 'functional',\n",
              " 'functional',\n",
              " 'functional',\n",
              " 'functional',\n",
              " 'functional',\n",
              " 'functional',\n",
              " 'functional',\n",
              " 'functional',\n",
              " 'functional',\n",
              " 'functional',\n",
              " 'functional',\n",
              " 'functional',\n",
              " 'functional',\n",
              " 'functional',\n",
              " 'functional',\n",
              " 'functional',\n",
              " 'functional',\n",
              " 'functional',\n",
              " 'functional',\n",
              " 'functional',\n",
              " 'functional',\n",
              " 'functional',\n",
              " 'functional',\n",
              " 'functional',\n",
              " 'functional',\n",
              " 'functional',\n",
              " 'functional',\n",
              " 'functional',\n",
              " 'functional',\n",
              " 'functional',\n",
              " 'functional',\n",
              " 'functional',\n",
              " 'functional',\n",
              " 'functional',\n",
              " 'functional',\n",
              " 'functional',\n",
              " 'functional',\n",
              " 'functional',\n",
              " 'functional',\n",
              " 'functional',\n",
              " 'functional',\n",
              " 'functional',\n",
              " 'functional',\n",
              " 'functional',\n",
              " 'functional',\n",
              " 'functional',\n",
              " 'functional',\n",
              " 'functional',\n",
              " 'functional',\n",
              " 'functional',\n",
              " 'functional',\n",
              " 'functional',\n",
              " 'functional',\n",
              " 'functional',\n",
              " 'functional',\n",
              " 'functional',\n",
              " 'functional',\n",
              " 'functional',\n",
              " 'functional',\n",
              " 'functional',\n",
              " 'functional',\n",
              " 'functional',\n",
              " 'functional',\n",
              " 'functional',\n",
              " 'functional',\n",
              " 'functional',\n",
              " 'functional',\n",
              " 'functional',\n",
              " 'functional',\n",
              " 'functional',\n",
              " 'functional',\n",
              " 'functional',\n",
              " 'functional',\n",
              " 'functional',\n",
              " 'functional',\n",
              " 'functional',\n",
              " 'functional',\n",
              " 'functional',\n",
              " 'functional',\n",
              " 'functional',\n",
              " 'functional',\n",
              " 'functional',\n",
              " 'functional',\n",
              " 'functional',\n",
              " 'functional',\n",
              " 'functional',\n",
              " 'functional',\n",
              " 'functional',\n",
              " 'functional',\n",
              " 'functional',\n",
              " 'functional',\n",
              " 'functional',\n",
              " 'functional',\n",
              " 'functional',\n",
              " 'functional',\n",
              " 'functional',\n",
              " 'functional',\n",
              " 'functional',\n",
              " 'functional',\n",
              " 'functional',\n",
              " 'functional',\n",
              " 'functional',\n",
              " 'functional',\n",
              " 'functional',\n",
              " 'functional',\n",
              " 'functional',\n",
              " 'functional',\n",
              " 'functional',\n",
              " 'functional',\n",
              " 'functional',\n",
              " 'functional',\n",
              " 'functional',\n",
              " 'functional',\n",
              " 'functional',\n",
              " 'functional',\n",
              " 'functional',\n",
              " 'functional',\n",
              " 'functional',\n",
              " 'functional',\n",
              " 'functional',\n",
              " 'functional',\n",
              " 'functional',\n",
              " 'functional',\n",
              " 'functional',\n",
              " 'functional',\n",
              " 'functional',\n",
              " 'functional',\n",
              " 'functional',\n",
              " 'functional',\n",
              " 'functional',\n",
              " 'functional',\n",
              " 'functional',\n",
              " 'functional',\n",
              " 'functional',\n",
              " 'functional',\n",
              " 'functional',\n",
              " 'functional',\n",
              " 'functional',\n",
              " 'functional',\n",
              " 'functional',\n",
              " 'functional',\n",
              " 'functional',\n",
              " 'functional',\n",
              " 'functional',\n",
              " 'functional',\n",
              " 'functional',\n",
              " 'functional',\n",
              " 'functional',\n",
              " 'functional',\n",
              " 'functional',\n",
              " 'functional',\n",
              " 'functional',\n",
              " 'functional',\n",
              " 'functional',\n",
              " 'functional',\n",
              " 'functional',\n",
              " 'functional',\n",
              " 'functional',\n",
              " 'functional',\n",
              " 'functional',\n",
              " 'functional',\n",
              " 'functional',\n",
              " 'functional',\n",
              " 'functional',\n",
              " 'functional',\n",
              " 'functional',\n",
              " 'functional',\n",
              " 'functional',\n",
              " 'functional',\n",
              " 'functional',\n",
              " 'functional',\n",
              " 'functional',\n",
              " 'functional',\n",
              " 'functional',\n",
              " 'functional',\n",
              " 'functional',\n",
              " 'functional',\n",
              " 'functional',\n",
              " 'functional',\n",
              " 'functional',\n",
              " 'functional',\n",
              " 'functional',\n",
              " 'functional',\n",
              " 'functional',\n",
              " 'functional',\n",
              " 'functional',\n",
              " 'functional',\n",
              " 'functional',\n",
              " 'functional',\n",
              " 'functional',\n",
              " 'functional',\n",
              " 'functional',\n",
              " 'functional',\n",
              " 'functional',\n",
              " 'functional',\n",
              " 'functional',\n",
              " 'functional',\n",
              " 'functional',\n",
              " 'functional',\n",
              " 'functional',\n",
              " 'functional',\n",
              " 'functional',\n",
              " 'functional',\n",
              " 'functional',\n",
              " 'functional',\n",
              " 'functional',\n",
              " 'functional',\n",
              " 'functional',\n",
              " 'functional',\n",
              " 'functional',\n",
              " 'functional',\n",
              " 'functional',\n",
              " 'functional',\n",
              " 'functional',\n",
              " 'functional',\n",
              " 'functional',\n",
              " 'functional',\n",
              " 'functional',\n",
              " 'functional',\n",
              " 'functional',\n",
              " 'functional',\n",
              " 'functional',\n",
              " 'functional',\n",
              " 'functional',\n",
              " 'functional',\n",
              " 'functional',\n",
              " 'functional',\n",
              " 'functional',\n",
              " 'functional',\n",
              " 'functional',\n",
              " 'functional',\n",
              " 'functional',\n",
              " 'functional',\n",
              " 'functional',\n",
              " 'functional',\n",
              " 'functional',\n",
              " 'functional',\n",
              " 'functional',\n",
              " 'functional',\n",
              " 'functional',\n",
              " 'functional',\n",
              " 'functional',\n",
              " 'functional',\n",
              " 'functional',\n",
              " 'functional',\n",
              " 'functional',\n",
              " 'functional',\n",
              " 'functional',\n",
              " 'functional',\n",
              " 'functional',\n",
              " 'functional',\n",
              " 'functional',\n",
              " 'functional',\n",
              " 'functional',\n",
              " 'functional',\n",
              " 'functional',\n",
              " 'functional',\n",
              " 'functional',\n",
              " 'functional',\n",
              " 'functional',\n",
              " 'functional',\n",
              " 'functional',\n",
              " 'functional',\n",
              " 'functional',\n",
              " 'functional',\n",
              " 'functional',\n",
              " 'functional',\n",
              " 'functional',\n",
              " 'functional',\n",
              " 'functional',\n",
              " 'functional',\n",
              " 'functional',\n",
              " 'functional',\n",
              " 'functional',\n",
              " 'functional',\n",
              " 'functional',\n",
              " 'functional',\n",
              " 'functional',\n",
              " 'functional',\n",
              " 'functional',\n",
              " 'functional',\n",
              " 'functional',\n",
              " 'functional',\n",
              " 'functional',\n",
              " 'functional',\n",
              " 'functional',\n",
              " 'functional',\n",
              " 'functional',\n",
              " 'functional',\n",
              " 'functional',\n",
              " 'functional',\n",
              " 'functional',\n",
              " 'functional',\n",
              " 'functional',\n",
              " 'functional',\n",
              " 'functional',\n",
              " 'functional',\n",
              " 'functional',\n",
              " 'functional',\n",
              " 'functional',\n",
              " 'functional',\n",
              " 'functional',\n",
              " 'functional',\n",
              " 'functional',\n",
              " 'functional',\n",
              " 'functional',\n",
              " 'functional',\n",
              " 'functional',\n",
              " 'functional',\n",
              " 'functional',\n",
              " 'functional',\n",
              " 'functional',\n",
              " 'functional',\n",
              " 'functional',\n",
              " 'functional',\n",
              " 'functional',\n",
              " 'functional',\n",
              " 'functional',\n",
              " 'functional',\n",
              " 'functional',\n",
              " 'functional',\n",
              " 'functional',\n",
              " 'functional',\n",
              " 'functional',\n",
              " 'functional',\n",
              " 'functional',\n",
              " 'functional',\n",
              " 'functional',\n",
              " 'functional',\n",
              " 'functional',\n",
              " 'functional',\n",
              " 'functional',\n",
              " 'functional',\n",
              " 'functional',\n",
              " 'functional',\n",
              " 'functional',\n",
              " 'functional',\n",
              " 'functional',\n",
              " 'functional',\n",
              " 'functional',\n",
              " 'functional',\n",
              " 'functional',\n",
              " 'functional',\n",
              " 'functional',\n",
              " 'functional',\n",
              " 'functional',\n",
              " 'functional',\n",
              " 'functional',\n",
              " 'functional',\n",
              " 'functional',\n",
              " 'functional',\n",
              " 'functional',\n",
              " 'functional',\n",
              " 'functional',\n",
              " 'functional',\n",
              " 'functional',\n",
              " 'functional',\n",
              " 'functional',\n",
              " 'functional',\n",
              " 'functional',\n",
              " 'functional',\n",
              " 'functional',\n",
              " 'functional',\n",
              " 'functional',\n",
              " 'functional',\n",
              " 'functional',\n",
              " 'functional',\n",
              " 'functional',\n",
              " 'functional',\n",
              " 'functional',\n",
              " 'functional',\n",
              " 'functional',\n",
              " 'functional',\n",
              " 'functional',\n",
              " 'functional',\n",
              " 'functional',\n",
              " 'functional',\n",
              " 'functional',\n",
              " 'functional',\n",
              " 'functional',\n",
              " 'functional',\n",
              " 'functional',\n",
              " 'functional',\n",
              " 'functional',\n",
              " 'functional',\n",
              " 'functional',\n",
              " 'functional',\n",
              " 'functional',\n",
              " 'functional',\n",
              " 'functional',\n",
              " 'functional',\n",
              " 'functional',\n",
              " 'functional',\n",
              " 'functional',\n",
              " 'functional',\n",
              " 'functional',\n",
              " 'functional',\n",
              " 'functional',\n",
              " 'functional',\n",
              " 'functional',\n",
              " 'functional',\n",
              " 'functional',\n",
              " 'functional',\n",
              " 'functional',\n",
              " 'functional',\n",
              " 'functional',\n",
              " 'functional',\n",
              " 'functional',\n",
              " 'functional',\n",
              " 'functional',\n",
              " 'functional',\n",
              " 'functional',\n",
              " 'functional',\n",
              " 'functional',\n",
              " 'functional',\n",
              " 'functional',\n",
              " 'functional',\n",
              " 'functional',\n",
              " 'functional',\n",
              " 'functional',\n",
              " 'functional',\n",
              " 'functional',\n",
              " 'functional',\n",
              " 'functional',\n",
              " 'functional',\n",
              " 'functional',\n",
              " 'functional',\n",
              " 'functional',\n",
              " 'functional',\n",
              " 'functional',\n",
              " 'functional',\n",
              " 'functional',\n",
              " 'functional',\n",
              " 'functional',\n",
              " 'functional',\n",
              " 'functional',\n",
              " 'functional',\n",
              " 'functional',\n",
              " 'functional',\n",
              " 'functional',\n",
              " 'functional',\n",
              " 'functional',\n",
              " 'functional',\n",
              " 'functional',\n",
              " 'functional',\n",
              " 'functional',\n",
              " 'functional',\n",
              " 'functional',\n",
              " 'functional',\n",
              " 'functional',\n",
              " 'functional',\n",
              " 'functional',\n",
              " 'functional',\n",
              " 'functional',\n",
              " 'functional',\n",
              " 'functional',\n",
              " 'functional',\n",
              " 'functional',\n",
              " 'functional',\n",
              " 'functional',\n",
              " 'functional',\n",
              " 'functional',\n",
              " 'functional',\n",
              " 'functional',\n",
              " 'functional',\n",
              " 'functional',\n",
              " 'functional',\n",
              " 'functional',\n",
              " 'functional',\n",
              " 'functional',\n",
              " 'functional',\n",
              " 'functional',\n",
              " 'functional',\n",
              " 'functional',\n",
              " 'functional',\n",
              " 'functional',\n",
              " 'functional',\n",
              " 'functional',\n",
              " 'functional',\n",
              " 'functional',\n",
              " 'functional',\n",
              " 'functional',\n",
              " 'functional',\n",
              " 'functional',\n",
              " 'functional',\n",
              " 'functional',\n",
              " 'functional',\n",
              " 'functional',\n",
              " 'functional',\n",
              " 'functional',\n",
              " 'functional',\n",
              " 'functional',\n",
              " 'functional',\n",
              " 'functional',\n",
              " 'functional',\n",
              " 'functional',\n",
              " 'functional',\n",
              " 'functional',\n",
              " 'functional',\n",
              " 'functional',\n",
              " 'functional',\n",
              " 'functional',\n",
              " 'functional',\n",
              " 'functional',\n",
              " 'functional',\n",
              " 'functional',\n",
              " 'functional',\n",
              " 'functional',\n",
              " 'functional',\n",
              " 'functional',\n",
              " 'functional',\n",
              " 'functional',\n",
              " 'functional',\n",
              " 'functional',\n",
              " 'functional',\n",
              " 'functional',\n",
              " 'functional',\n",
              " 'functional',\n",
              " 'functional',\n",
              " 'functional',\n",
              " 'functional',\n",
              " 'functional',\n",
              " 'functional',\n",
              " 'functional',\n",
              " 'functional',\n",
              " 'functional',\n",
              " 'functional',\n",
              " 'functional',\n",
              " 'functional',\n",
              " 'functional',\n",
              " 'functional',\n",
              " 'functional',\n",
              " 'functional',\n",
              " 'functional',\n",
              " 'functional',\n",
              " 'functional',\n",
              " 'functional',\n",
              " 'functional',\n",
              " 'functional',\n",
              " 'functional',\n",
              " 'functional',\n",
              " 'functional',\n",
              " 'functional',\n",
              " 'functional',\n",
              " 'functional',\n",
              " 'functional',\n",
              " 'functional',\n",
              " 'functional',\n",
              " 'functional',\n",
              " 'functional',\n",
              " 'functional',\n",
              " 'functional',\n",
              " 'functional',\n",
              " 'functional',\n",
              " 'functional',\n",
              " 'functional',\n",
              " 'functional',\n",
              " 'functional',\n",
              " 'functional',\n",
              " 'functional',\n",
              " 'functional',\n",
              " 'functional',\n",
              " 'functional',\n",
              " 'functional',\n",
              " 'functional',\n",
              " 'functional',\n",
              " 'functional',\n",
              " 'functional',\n",
              " 'functional',\n",
              " 'functional',\n",
              " 'functional',\n",
              " 'functional',\n",
              " 'functional',\n",
              " 'functional',\n",
              " 'functional',\n",
              " 'functional',\n",
              " 'functional',\n",
              " 'functional',\n",
              " 'functional',\n",
              " 'functional',\n",
              " 'functional',\n",
              " 'functional',\n",
              " 'functional',\n",
              " 'functional',\n",
              " 'functional',\n",
              " 'functional',\n",
              " 'functional',\n",
              " 'functional',\n",
              " 'functional',\n",
              " 'functional',\n",
              " 'functional',\n",
              " 'functional',\n",
              " 'functional',\n",
              " 'functional',\n",
              " 'functional',\n",
              " 'functional',\n",
              " 'functional',\n",
              " 'functional',\n",
              " 'functional',\n",
              " 'functional',\n",
              " 'functional',\n",
              " 'functional',\n",
              " 'functional',\n",
              " 'functional',\n",
              " 'functional',\n",
              " 'functional',\n",
              " 'functional',\n",
              " 'functional',\n",
              " 'functional',\n",
              " 'functional',\n",
              " 'functional',\n",
              " 'functional',\n",
              " 'functional',\n",
              " 'functional',\n",
              " 'functional',\n",
              " 'functional',\n",
              " 'functional',\n",
              " 'functional',\n",
              " 'functional',\n",
              " 'functional',\n",
              " 'functional',\n",
              " 'functional',\n",
              " 'functional',\n",
              " 'functional',\n",
              " 'functional',\n",
              " 'functional',\n",
              " 'functional',\n",
              " 'functional',\n",
              " 'functional',\n",
              " 'functional',\n",
              " 'functional',\n",
              " 'functional',\n",
              " 'functional',\n",
              " 'functional',\n",
              " 'functional',\n",
              " 'functional',\n",
              " 'functional',\n",
              " 'functional',\n",
              " 'functional',\n",
              " 'functional',\n",
              " 'functional',\n",
              " 'functional',\n",
              " 'functional',\n",
              " 'functional',\n",
              " 'functional',\n",
              " 'functional',\n",
              " 'functional',\n",
              " 'functional',\n",
              " 'functional',\n",
              " 'functional',\n",
              " 'functional',\n",
              " 'functional',\n",
              " 'functional',\n",
              " 'functional',\n",
              " 'functional',\n",
              " 'functional',\n",
              " 'functional',\n",
              " 'functional',\n",
              " 'functional',\n",
              " 'functional',\n",
              " 'functional',\n",
              " 'functional',\n",
              " 'functional',\n",
              " 'functional',\n",
              " 'functional',\n",
              " 'functional',\n",
              " 'functional',\n",
              " 'functional',\n",
              " 'functional',\n",
              " 'functional',\n",
              " 'functional',\n",
              " 'functional',\n",
              " 'functional',\n",
              " 'functional',\n",
              " 'functional',\n",
              " 'functional',\n",
              " 'functional',\n",
              " 'functional',\n",
              " 'functional',\n",
              " 'functional',\n",
              " 'functional',\n",
              " 'functional',\n",
              " 'functional',\n",
              " 'functional',\n",
              " 'functional',\n",
              " 'functional',\n",
              " 'functional',\n",
              " 'functional',\n",
              " 'functional',\n",
              " 'functional',\n",
              " 'functional',\n",
              " 'functional',\n",
              " 'functional',\n",
              " 'functional',\n",
              " 'functional',\n",
              " 'functional',\n",
              " 'functional',\n",
              " 'functional',\n",
              " 'functional',\n",
              " 'functional',\n",
              " 'functional',\n",
              " 'functional',\n",
              " 'functional',\n",
              " 'functional',\n",
              " 'functional',\n",
              " 'functional',\n",
              " 'functional',\n",
              " 'functional',\n",
              " 'functional',\n",
              " 'functional',\n",
              " 'functional',\n",
              " 'functional',\n",
              " 'functional',\n",
              " 'functional',\n",
              " 'functional',\n",
              " 'functional',\n",
              " 'functional',\n",
              " 'functional',\n",
              " 'functional',\n",
              " 'functional',\n",
              " 'functional',\n",
              " 'functional',\n",
              " 'functional',\n",
              " 'functional',\n",
              " 'functional',\n",
              " 'functional',\n",
              " 'functional',\n",
              " 'functional',\n",
              " 'functional',\n",
              " 'functional',\n",
              " 'functional',\n",
              " 'functional',\n",
              " 'functional',\n",
              " 'functional',\n",
              " 'functional',\n",
              " 'functional',\n",
              " 'functional',\n",
              " 'functional',\n",
              " 'functional',\n",
              " 'functional',\n",
              " 'functional',\n",
              " 'functional',\n",
              " 'functional',\n",
              " 'functional',\n",
              " 'functional',\n",
              " 'functional',\n",
              " 'functional',\n",
              " 'functional',\n",
              " 'functional',\n",
              " 'functional',\n",
              " 'functional',\n",
              " 'functional',\n",
              " 'functional',\n",
              " 'functional',\n",
              " 'functional',\n",
              " 'functional',\n",
              " 'functional',\n",
              " 'functional',\n",
              " 'functional',\n",
              " 'functional',\n",
              " 'functional',\n",
              " 'functional',\n",
              " 'functional',\n",
              " 'functional',\n",
              " 'functional',\n",
              " 'functional',\n",
              " 'functional',\n",
              " 'functional',\n",
              " 'functional',\n",
              " 'functional',\n",
              " 'functional',\n",
              " 'functional',\n",
              " 'functional',\n",
              " 'functional',\n",
              " 'functional',\n",
              " 'functional',\n",
              " 'functional',\n",
              " 'functional',\n",
              " 'functional',\n",
              " 'functional',\n",
              " 'functional',\n",
              " 'functional',\n",
              " 'functional',\n",
              " 'functional',\n",
              " 'functional',\n",
              " 'functional',\n",
              " 'functional',\n",
              " 'functional',\n",
              " 'functional',\n",
              " 'functional',\n",
              " 'functional',\n",
              " 'functional',\n",
              " 'functional',\n",
              " 'functional',\n",
              " 'functional',\n",
              " 'functional',\n",
              " 'functional',\n",
              " 'functional',\n",
              " 'functional',\n",
              " 'functional',\n",
              " 'functional',\n",
              " 'functional',\n",
              " 'functional',\n",
              " 'functional',\n",
              " 'functional',\n",
              " 'functional',\n",
              " 'functional',\n",
              " 'functional',\n",
              " 'functional',\n",
              " 'functional',\n",
              " 'functional',\n",
              " 'functional',\n",
              " 'functional',\n",
              " 'functional',\n",
              " 'functional',\n",
              " 'functional',\n",
              " 'functional',\n",
              " 'functional',\n",
              " 'functional',\n",
              " 'functional',\n",
              " 'functional',\n",
              " 'functional',\n",
              " 'functional',\n",
              " 'functional',\n",
              " 'functional',\n",
              " 'functional',\n",
              " 'functional',\n",
              " 'functional',\n",
              " 'functional',\n",
              " 'functional',\n",
              " 'functional',\n",
              " 'functional',\n",
              " 'functional',\n",
              " 'functional',\n",
              " 'functional',\n",
              " 'functional',\n",
              " 'functional',\n",
              " 'functional',\n",
              " 'functional',\n",
              " 'functional',\n",
              " 'functional',\n",
              " 'functional',\n",
              " 'functional',\n",
              " 'functional',\n",
              " 'functional',\n",
              " 'functional',\n",
              " 'functional',\n",
              " 'functional',\n",
              " 'functional',\n",
              " 'functional',\n",
              " 'functional',\n",
              " 'functional',\n",
              " 'functional',\n",
              " 'functional',\n",
              " 'functional',\n",
              " 'functional',\n",
              " 'functional',\n",
              " 'functional',\n",
              " 'functional',\n",
              " 'functional',\n",
              " 'functional',\n",
              " 'functional',\n",
              " 'functional',\n",
              " 'functional',\n",
              " 'functional',\n",
              " 'functional',\n",
              " 'functional',\n",
              " 'functional',\n",
              " 'functional',\n",
              " 'functional',\n",
              " 'functional',\n",
              " 'functional',\n",
              " 'functional',\n",
              " 'functional',\n",
              " 'functional',\n",
              " 'functional',\n",
              " 'functional',\n",
              " 'functional',\n",
              " 'functional',\n",
              " 'functional',\n",
              " 'functional',\n",
              " 'functional',\n",
              " 'functional',\n",
              " 'functional',\n",
              " 'functional',\n",
              " 'functional',\n",
              " 'functional',\n",
              " 'functional',\n",
              " 'functional',\n",
              " 'functional',\n",
              " 'functional',\n",
              " 'functional',\n",
              " 'functional',\n",
              " 'functional',\n",
              " 'functional',\n",
              " 'functional',\n",
              " 'functional',\n",
              " 'functional',\n",
              " 'functional',\n",
              " 'functional',\n",
              " 'functional',\n",
              " 'functional',\n",
              " 'functional',\n",
              " 'functional',\n",
              " 'functional',\n",
              " 'functional',\n",
              " 'functional',\n",
              " 'functional',\n",
              " 'functional',\n",
              " 'functional',\n",
              " 'functional',\n",
              " 'functional',\n",
              " 'functional',\n",
              " 'functional',\n",
              " 'functional',\n",
              " ...]"
            ]
          },
          "metadata": {
            "tags": []
          },
          "execution_count": 22
        }
      ]
    },
    {
      "cell_type": "code",
      "metadata": {
        "id": "motkn81tg8Gy",
        "colab_type": "code",
        "colab": {
          "base_uri": "https://localhost:8080/",
          "height": 250
        },
        "outputId": "f98d4995-f394-436f-e167-4bc3924dc54d"
      },
      "source": [
        "print(classification_report(y_val, y_pred_baseline)) #f1 is a test accuracy "
      ],
      "execution_count": 23,
      "outputs": [
        {
          "output_type": "stream",
          "text": [
            "                         precision    recall  f1-score   support\n",
            "\n",
            "             functional       0.54      1.00      0.70      7798\n",
            "functional needs repair       0.00      0.00      0.00      1043\n",
            "         non functional       0.00      0.00      0.00      5517\n",
            "\n",
            "               accuracy                           0.54     14358\n",
            "              macro avg       0.18      0.33      0.23     14358\n",
            "           weighted avg       0.29      0.54      0.38     14358\n",
            "\n"
          ],
          "name": "stdout"
        },
        {
          "output_type": "stream",
          "text": [
            "/usr/local/lib/python3.6/dist-packages/sklearn/metrics/_classification.py:1272: UndefinedMetricWarning: Precision and F-score are ill-defined and being set to 0.0 in labels with no predicted samples. Use `zero_division` parameter to control this behavior.\n",
            "  _warn_prf(average, modifier, msg_start, len(result))\n"
          ],
          "name": "stderr"
        }
      ]
    },
    {
      "cell_type": "code",
      "metadata": {
        "id": "t4gNKjuIhQRr",
        "colab_type": "code",
        "colab": {}
      },
      "source": [
        "#recall = ratio of correctly identified observations / total \n",
        "#precision = ratio of correctly identified observations / how many classified/identified as dogs  \n"
      ],
      "execution_count": 0,
      "outputs": []
    },
    {
      "cell_type": "code",
      "metadata": {
        "id": "CFlIYIBriewj",
        "colab_type": "code",
        "colab": {
          "base_uri": "https://localhost:8080/",
          "height": 431
        },
        "outputId": "c82c8f33-7a09-47e3-e1d1-a88cdbc75610"
      },
      "source": [
        "plot_cm(y_val, y_pred)"
      ],
      "execution_count": 24,
      "outputs": [
        {
          "output_type": "display_data",
          "data": {
            "image/png": "[encoded data removed]",
            "text/plain": [
              "<Figure size 720x504 with 2 Axes>"
            ]
          },
          "metadata": {
            "tags": [],
            "needs_background": "light"
          }
        }
      ]
    },
    {
      "cell_type": "code",
      "metadata": {
        "id": "INM71dr5ingf",
        "colab_type": "code",
        "colab": {}
      },
      "source": [
        "#How many correct predictions of \"non-functional\"?\n",
        "\n",
        "correct_pred_non_func = 4292"
      ],
      "execution_count": 0,
      "outputs": []
    },
    {
      "cell_type": "code",
      "metadata": {
        "id": "TtoIQBUyi1am",
        "colab_type": "code",
        "colab": {
          "base_uri": "https://localhost:8080/",
          "height": 35
        },
        "outputId": "55b1f603-9ad2-472c-b26b-51b4bcd4278a"
      },
      "source": [
        "#How many total predictions of non-functional?\n",
        "total_pred_non_func = 615+155+4292\n",
        "total_pred_non_func"
      ],
      "execution_count": 26,
      "outputs": [
        {
          "output_type": "execute_result",
          "data": {
            "text/plain": [
              "5062"
            ]
          },
          "metadata": {
            "tags": []
          },
          "execution_count": 26
        }
      ]
    },
    {
      "cell_type": "code",
      "metadata": {
        "id": "HGCU_pj4jBMv",
        "colab_type": "code",
        "colab": {
          "base_uri": "https://localhost:8080/",
          "height": 35
        },
        "outputId": "e70a564c-123b-4a39-e1e9-261d9faf3b1f"
      },
      "source": [
        "#what's the precision of non-functional?\n",
        "\n",
        "precision_non_func = correct_pred_non_func / total_pred_non_func\n",
        "precision_non_func"
      ],
      "execution_count": 27,
      "outputs": [
        {
          "output_type": "execute_result",
          "data": {
            "text/plain": [
              "0.8478862109838009"
            ]
          },
          "metadata": {
            "tags": []
          },
          "execution_count": 27
        }
      ]
    },
    {
      "cell_type": "code",
      "metadata": {
        "id": "Fq8GuFzhj3Gf",
        "colab_type": "code",
        "colab": {
          "base_uri": "https://localhost:8080/",
          "height": 195
        },
        "outputId": "1ad9847b-686c-4da5-b4b7-2388889d618c"
      },
      "source": [
        "print(classification_report(y_val, y_pred)) #precision score matches"
      ],
      "execution_count": 28,
      "outputs": [
        {
          "output_type": "stream",
          "text": [
            "                         precision    recall  f1-score   support\n",
            "\n",
            "             functional       0.80      0.90      0.85      7798\n",
            "functional needs repair       0.60      0.30      0.40      1043\n",
            "         non functional       0.85      0.78      0.81      5517\n",
            "\n",
            "               accuracy                           0.81     14358\n",
            "              macro avg       0.75      0.66      0.69     14358\n",
            "           weighted avg       0.80      0.81      0.80     14358\n",
            "\n"
          ],
          "name": "stdout"
        }
      ]
    },
    {
      "cell_type": "code",
      "metadata": {
        "id": "nzIert1ekGo9",
        "colab_type": "code",
        "colab": {}
      },
      "source": [
        "#How many actual non functional waterpumps?\n",
        "actual_non_func = 1162+63+4292"
      ],
      "execution_count": 0,
      "outputs": []
    },
    {
      "cell_type": "code",
      "metadata": {
        "id": "s8BclX9wkNeu",
        "colab_type": "code",
        "colab": {
          "base_uri": "https://localhost:8080/",
          "height": 35
        },
        "outputId": "47d15fa2-d4eb-4fed-ba8e-c2aeaf2f8531"
      },
      "source": [
        "#What's the recall for non functional?\n",
        "recall_non_func = correct_pred_non_func / actual_non_func\n",
        "recall_non_func"
      ],
      "execution_count": 30,
      "outputs": [
        {
          "output_type": "execute_result",
          "data": {
            "text/plain": [
              "0.7779590357078122"
            ]
          },
          "metadata": {
            "tags": []
          },
          "execution_count": 30
        }
      ]
    },
    {
      "cell_type": "code",
      "metadata": {
        "id": "CrfYmNn6l-1A",
        "colab_type": "code",
        "colab": {
          "base_uri": "https://localhost:8080/",
          "height": 35
        },
        "outputId": "13842fbb-142d-455f-8f09-e5720e0bebac"
      },
      "source": [
        "#what's f1 score?\n",
        "\n",
        "# f1 = 2 * ((precision * recall) / (precision + recall))\n",
        "\n",
        "f1_non_func = 2*((precision_non_func * recall_non_func)/((precision_non_func + recall_non_func)))\n",
        "f1_non_func"
      ],
      "execution_count": 31,
      "outputs": [
        {
          "output_type": "execute_result",
          "data": {
            "text/plain": [
              "0.8114188486624444"
            ]
          },
          "metadata": {
            "tags": []
          },
          "execution_count": 31
        }
      ]
    },
    {
      "cell_type": "code",
      "metadata": {
        "id": "8zySbxREywV7",
        "colab_type": "code",
        "colab": {
          "base_uri": "https://localhost:8080/",
          "height": 88
        },
        "outputId": "0c82e159-909e-4962-cc8b-a1f001ac2545"
      },
      "source": [
        "#If we normalize our data, we will see that only about 46% of the waterpumps would need repairs, and 54% would not need repairs.\n",
        "#So we would waste our resouces if we send maintenance crew to check our functional waterpumps\n",
        "#That's why we will turn from classification to binary\n",
        "y_train.value_counts(normalize=True)"
      ],
      "execution_count": 32,
      "outputs": [
        {
          "output_type": "execute_result",
          "data": {
            "text/plain": [
              "functional                 0.543071\n",
              "non functional             0.384241\n",
              "functional needs repair    0.072688\n",
              "Name: status_group, dtype: float64"
            ]
          },
          "metadata": {
            "tags": []
          },
          "execution_count": 32
        }
      ]
    },
    {
      "cell_type": "code",
      "metadata": {
        "id": "QzEb_3yNp_z3",
        "colab_type": "code",
        "colab": {
          "base_uri": "https://localhost:8080/",
          "height": 108
        },
        "outputId": "9cabf941-46aa-424f-baef-13e2c65953ad"
      },
      "source": [
        "y_train = y_train != 'functional'\n",
        "y_val = y_val != 'functional'\n",
        "y_train.value_counts(normalize=True)\n",
        "\n",
        "# turn from classification to binary. So we could filter only the ones that need repair and non functional, which are categorized as True "
      ],
      "execution_count": 45,
      "outputs": [
        {
          "output_type": "stream",
          "text": [
            "/usr/local/lib/python3.6/dist-packages/pandas/core/ops/array_ops.py:253: FutureWarning: elementwise comparison failed; returning scalar instead, but in the future will perform elementwise comparison\n",
            "  res_values = method(rvalues)\n"
          ],
          "name": "stderr"
        },
        {
          "output_type": "execute_result",
          "data": {
            "text/plain": [
              "True    1.0\n",
              "Name: status_group, dtype: float64"
            ]
          },
          "metadata": {
            "tags": []
          },
          "execution_count": 45
        }
      ]
    },
    {
      "cell_type": "code",
      "metadata": {
        "id": "lMltF1ieojwu",
        "colab_type": "code",
        "colab": {}
      },
      "source": [
        "pipeline.fit(X_train, y_train)\n",
        "y_pred = pipeline.predict(X_val)\n"
      ],
      "execution_count": 0,
      "outputs": []
    },
    {
      "cell_type": "code",
      "metadata": {
        "id": "QD7VxYUtpBCt",
        "colab_type": "code",
        "colab": {
          "base_uri": "https://localhost:8080/",
          "height": 428
        },
        "outputId": "4d21425d-6213-4831-bd3d-f21cbe5001a4"
      },
      "source": [
        "plot_cm(y_val, y_pred)"
      ],
      "execution_count": 35,
      "outputs": [
        {
          "output_type": "display_data",
          "data": {
            "image/png": "[encoded data removed]",
            "text/plain": [
              "<Figure size 720x504 with 2 Axes>"
            ]
          },
          "metadata": {
            "tags": [],
            "needs_background": "light"
          }
        }
      ]
    },
    {
      "cell_type": "code",
      "metadata": {
        "id": "I1tgBtjyrJne",
        "colab_type": "code",
        "colab": {
          "base_uri": "https://localhost:8080/",
          "height": 35
        },
        "outputId": "ac55e3e5-5dc3-4a8d-a722-a41e761adf0e"
      },
      "source": [
        "y_pred.sum() #We don't have \"budget\" to Take an action on all these predictions\n",
        "#we only have budget for 2000 so we need to prioritize the ones with the highest probability "
      ],
      "execution_count": 36,
      "outputs": [
        {
          "output_type": "execute_result",
          "data": {
            "text/plain": [
              "5878"
            ]
          },
          "metadata": {
            "tags": []
          },
          "execution_count": 36
        }
      ]
    },
    {
      "cell_type": "code",
      "metadata": {
        "id": "uXJ5kZeWrTdw",
        "colab_type": "code",
        "colab": {
          "base_uri": "https://localhost:8080/",
          "height": 141
        },
        "outputId": "fb7c9334-6e97-415f-b8a5-bacce4ecca8b"
      },
      "source": [
        "pipeline.predict_proba(X_val) # returns a 2 dimensional array, each row sums up to 1 \n",
        "\n"
      ],
      "execution_count": 37,
      "outputs": [
        {
          "output_type": "execute_result",
          "data": {
            "text/plain": [
              "array([[0.  , 1.  ],\n",
              "       [0.3 , 0.7 ],\n",
              "       [0.89, 0.11],\n",
              "       ...,\n",
              "       [0.86, 0.14],\n",
              "       [0.59, 0.41],\n",
              "       [0.97, 0.03]])"
            ]
          },
          "metadata": {
            "tags": []
          },
          "execution_count": 37
        }
      ]
    },
    {
      "cell_type": "code",
      "metadata": {
        "id": "WwjoM8rItbTy",
        "colab_type": "code",
        "colab": {
          "base_uri": "https://localhost:8080/",
          "height": 35
        },
        "outputId": "c8fcd3ee-dcf2-40af-f51d-8a6d3e9daa6e"
      },
      "source": [
        "pipeline.predict(X_val) "
      ],
      "execution_count": 38,
      "outputs": [
        {
          "output_type": "execute_result",
          "data": {
            "text/plain": [
              "array([ True,  True, False, ..., False, False, False])"
            ]
          },
          "metadata": {
            "tags": []
          },
          "execution_count": 38
        }
      ]
    },
    {
      "cell_type": "code",
      "metadata": {
        "id": "X-uh7uK-sGT_",
        "colab_type": "code",
        "colab": {
          "base_uri": "https://localhost:8080/",
          "height": 35
        },
        "outputId": "74ca3674-27a4-41e3-d2bf-5241f47e62ce"
      },
      "source": [
        "#to extract the second columns and 1 row we can \n",
        "pipeline.predict_proba(X_val)[:,1]"
      ],
      "execution_count": 39,
      "outputs": [
        {
          "output_type": "execute_result",
          "data": {
            "text/plain": [
              "array([1.  , 0.7 , 0.11, ..., 0.14, 0.41, 0.03])"
            ]
          },
          "metadata": {
            "tags": []
          },
          "execution_count": 39
        }
      ]
    },
    {
      "cell_type": "code",
      "metadata": {
        "id": "h0ZGSgO5t8OZ",
        "colab_type": "code",
        "colab": {
          "base_uri": "https://localhost:8080/",
          "height": 35
        },
        "outputId": "1d88ff85-8d05-483b-a187-9318edb9a48d"
      },
      "source": [
        "#We set a threshold 0.5\n",
        "pipeline.predict_proba(X_val)[:,1] > 0.5\n",
        "\n",
        "# we pick only probabilities greater than 50%"
      ],
      "execution_count": 40,
      "outputs": [
        {
          "output_type": "execute_result",
          "data": {
            "text/plain": [
              "array([ True,  True, False, ..., False, False, False])"
            ]
          },
          "metadata": {
            "tags": []
          },
          "execution_count": 40
        }
      ]
    },
    {
      "cell_type": "code",
      "metadata": {
        "id": "LKduVF0dsgb9",
        "colab_type": "code",
        "colab": {
          "base_uri": "https://localhost:8080/",
          "height": 265
        },
        "outputId": "f1fde4e3-2d34-4f77-913f-747c6a67a54b"
      },
      "source": [
        "y_pred_proba = pipeline.predict_proba(X_val)[:,1]\n",
        "sns.distplot(y_pred_proba);"
      ],
      "execution_count": 41,
      "outputs": [
        {
          "output_type": "display_data",
          "data": {
            "image/png": "[encoded data removed]",
            "text/plain": [
              "<Figure size 432x288 with 1 Axes>"
            ]
          },
          "metadata": {
            "tags": [],
            "needs_background": "light"
          }
        }
      ]
    },
    {
      "cell_type": "code",
      "metadata": {
        "id": "5eHG4hIDtw8C",
        "colab_type": "code",
        "colab": {
          "base_uri": "https://localhost:8080/",
          "height": 318
        },
        "outputId": "7abbce9e-6c97-4d34-c49f-35d447e98b81"
      },
      "source": [
        "#Change the threshold to 0.6, 0.7, 0.9, etc\n",
        "#Takes approximately 93% threshhold to meet the budget $2000\n",
        "thres = 0.93\n",
        "\n",
        "y_pred = y_pred_proba > thres \n",
        "\n",
        "ax = sns.distplot(y_pred_proba)\n",
        "ax.axvline(thres, color='red') \n",
        "pd.Series(y_pred).value_counts()\n"
      ],
      "execution_count": 42,
      "outputs": [
        {
          "output_type": "execute_result",
          "data": {
            "text/plain": [
              "False    12293\n",
              "True      2065\n",
              "dtype: int64"
            ]
          },
          "metadata": {
            "tags": []
          },
          "execution_count": 42
        },
        {
          "output_type": "display_data",
          "data": {
            "image/png": "[encoded data removed]",
            "text/plain": [
              "<Figure size 432x288 with 1 Axes>"
            ]
          },
          "metadata": {
            "tags": [],
            "needs_background": "light"
          }
        }
      ]
    },
    {
      "cell_type": "code",
      "metadata": {
        "id": "UZa8ZHdLvOKJ",
        "colab_type": "code",
        "colab": {
          "base_uri": "https://localhost:8080/",
          "height": 836
        },
        "outputId": "e050039f-d9de-423c-ce41-02a262ac4f47"
      },
      "source": [
        "#OR IDENTIFY THE 2000 WATERPUMPS IN THE VALIDATION SET WITH THE HIGHEST PREDICTIED PROBABILITIES\n",
        "\n",
        "def set_thres(y_val, y_pred_proba, thres=0.5):\n",
        "  y_pred = y_pred_proba > thres \n",
        "  ax = sns.distplot(y_pred_proba)\n",
        "  ax.axvline(thres, color='red') \n",
        "  plt.show()\n",
        "  print(classification_report(y_val, y_pred))\n",
        "  plot_cm(y_val, y_pred)\n",
        "\n",
        "set_thres(y_pred, y_pred_proba)"
      ],
      "execution_count": 43,
      "outputs": [
        {
          "output_type": "display_data",
          "data": {
            "image/png": "[encoded data removed]",
            "text/plain": [
              "<Figure size 432x288 with 1 Axes>"
            ]
          },
          "metadata": {
            "tags": [],
            "needs_background": "light"
          }
        },
        {
          "output_type": "stream",
          "text": [
            "              precision    recall  f1-score   support\n",
            "\n",
            "       False       1.00      0.69      0.82     12293\n",
            "        True       0.35      1.00      0.52      2065\n",
            "\n",
            "    accuracy                           0.73     14358\n",
            "   macro avg       0.68      0.84      0.67     14358\n",
            "weighted avg       0.91      0.73      0.77     14358\n",
            "\n"
          ],
          "name": "stdout"
        },
        {
          "output_type": "display_data",
          "data": {
            "image/png": "[encoded data removed]",
            "text/plain": [
              "<Figure size 720x504 with 2 Axes>"
            ]
          },
          "metadata": {
            "tags": [],
            "needs_background": "light"
          }
        }
      ]
    },
    {
      "cell_type": "code",
      "metadata": {
        "id": "mkqy9ODzwOzo",
        "colab_type": "code",
        "colab": {
          "base_uri": "https://localhost:8080/",
          "height": 886,
          "referenced_widgets": [
            "8eb86ea170ef48aabfa98e9c53f59885",
            "7d7077094faf4c6ea93a0cd0f0e8689b",
            "e78b7fe3c9624081b0c8350884f3106b",
            "dcf4ecefcd3343fe8cdca3fd897ceaa7",
            "9d2920e384b74f6aa3162ebf9247cb51",
            "25db720074324717a7f8bb669b49ba07",
            "df2f68bf1251490ba75a4589ce580b50"
          ]
        },
        "outputId": "ac5543cf-9c1a-46f5-8618-342e3b9ded10"
      },
      "source": [
        "from ipywidgets import interact, fixed\n",
        "\n",
        "interact(set_thres, y_val=fixed(y_val), y_pred_proba=fixed(y_pred_proba), thres = (0,1,0.1))"
      ],
      "execution_count": 44,
      "outputs": [
        {
          "output_type": "display_data",
          "data": {
            "application/vnd.jupyter.widget-view+json": {
              "model_id": "8eb86ea170ef48aabfa98e9c53f59885",
              "version_minor": 0,
              "version_major": 2
            },
            "text/plain": [
              "interactive(children=(FloatSlider(value=0.5, description='thres', max=1.0), Output()), _dom_classes=('widget-i…"
            ]
          },
          "metadata": {
            "tags": []
          }
        },
        {
          "output_type": "execute_result",
          "data": {
            "text/plain": [
              "<function __main__.set_thres>"
            ]
          },
          "metadata": {
            "tags": []
          },
          "execution_count": 44
        }
      ]
    }
  ]
}